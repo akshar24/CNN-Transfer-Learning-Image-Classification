{
 "cells": [
  {
   "cell_type": "markdown",
   "metadata": {
    "id": "VmtzDhTc_OEx"
   },
   "source": []
  },
  {
   "cell_type": "markdown",
   "metadata": {
    "id": "LlFpkRqpfOfa"
   },
   "source": [
    "\n",
    "## Helpful Functions for Tensorflow (Little Gems)\n",
    "\n",
    "The following functions will be used with TensorFlow to help preprocess the data.  They allow you to build the feature vector for a neural network. \n",
    "\n",
    "* Predictors/Inputs \n",
    "    * Fill any missing inputs with the median for that column.  Use **missing_median**.\n",
    "    * Encode textual/categorical values with **encode_text_dummy**.\n",
    "    * Encode numeric values with **encode_numeric_zscore**.\n",
    "* Output\n",
    "    * Discard rows with missing outputs.\n",
    "    * Encode textual/categorical values with **encode_text_index**.\n",
    "    * Do not encode output numeric values.\n",
    "* Produce final feature vectors (x) and expected output (y) with **to_xy**."
   ]
  },
  {
   "cell_type": "code",
   "execution_count": 2,
   "metadata": {
    "id": "FOddo2bbfOfb"
   },
   "outputs": [],
   "source": [
    "from collections.abc import Sequence\n",
    "from sklearn import preprocessing\n",
    "import matplotlib.pyplot as plt\n",
    "import numpy as np\n",
    "import pandas as pd\n",
    "from tensorflow.keras.callbacks import EarlyStopping, ModelCheckpoint\n",
    "from tensorflow.keras.optimizers import Adam\n",
    "from sklearn.metrics import roc_curve, auc\n",
    "from sklearn import metrics\n",
    "\n",
    "\n",
    "import shutil\n",
    "import os\n",
    "\n",
    "\n",
    "# Encode text values to dummy variables(i.e. [1,0,0],[0,1,0],[0,0,1] for red,green,blue)\n",
    "def encode_text_dummy(df, name):\n",
    "    dummies = pd.get_dummies(df[name])\n",
    "    for x in dummies.columns:\n",
    "        dummy_name = \"{}-{}\".format(name, x)\n",
    "        df[dummy_name] = dummies[x]\n",
    "    df.drop(name, axis=1, inplace=True)\n",
    "\n",
    "\n",
    "# Encode text values to indexes(i.e. [1],[2],[3] for red,green,blue).\n",
    "def encode_text_index(df, name):\n",
    "    le = preprocessing.LabelEncoder()\n",
    "    df[name] = le.fit_transform(df[name])\n",
    "    return le.classes_\n",
    "\n",
    "\n",
    "# Encode a numeric column as zscores\n",
    "def encode_numeric_zscore(df, name, mean=None, sd=None):\n",
    "    if mean is None:\n",
    "        mean = df[name].mean()\n",
    "\n",
    "    if sd is None:\n",
    "        sd = df[name].std()\n",
    "\n",
    "    df[name] = (df[name] - mean) / sd\n",
    "\n",
    "\n",
    "# Convert all missing values in the specified column to the median\n",
    "def missing_median(df, name):\n",
    "    med = df[name].median()\n",
    "    df[name] = df[name].fillna(med)\n",
    "\n",
    "\n",
    "# Convert all missing values in the specified column to the default\n",
    "def missing_default(df, name, default_value):\n",
    "    df[name] = df[name].fillna(default_value)\n",
    "\n",
    "\n",
    "# Convert a Pandas dataframe to the x,y inputs that TensorFlow needs\n",
    "def to_xy(df, target):\n",
    "    result = []\n",
    "    for x in df.columns:\n",
    "        if x != target:\n",
    "            result.append(x)\n",
    "    # find out the type of the target column. \n",
    "    target_type = df[target].dtypes\n",
    "    target_type = target_type[0] if isinstance(target_type, Sequence) else target_type\n",
    "    # Encode to int for classification, float otherwise. TensorFlow likes 32 bits.\n",
    "    if target_type in (np.int64, np.int32):\n",
    "        # Classification\n",
    "        dummies = pd.get_dummies(df[target])\n",
    "        return df[result].values.astype(np.float32), dummies.values.astype(np.float32)\n",
    "    else:\n",
    "        # Regression\n",
    "        return df[result].values.astype(np.float32), df[target].values.astype(np.float32)\n",
    "\n",
    "# Nicely formatted time string\n",
    "def hms_string(sec_elapsed):\n",
    "    h = int(sec_elapsed / (60 * 60))\n",
    "    m = int((sec_elapsed % (60 * 60)) / 60)\n",
    "    s = sec_elapsed % 60\n",
    "    return \"{}:{:>02}:{:>05.2f}\".format(h, m, s)\n",
    "\n",
    "\n",
    "# Regression chart.\n",
    "def chart_regression(pred,y,sort=True):\n",
    "    t = pd.DataFrame({'pred' : pred, 'y' : y.flatten()})\n",
    "    if sort:\n",
    "        t.sort_values(by=['y'],inplace=True)\n",
    "    a = plt.plot(t['y'].tolist(),label='expected')\n",
    "    b = plt.plot(t['pred'].tolist(),label='prediction')\n",
    "    plt.ylabel('output')\n",
    "    plt.legend()\n",
    "    plt.show()\n",
    "\n",
    "# Remove all rows where the specified column is +/- sd standard deviations\n",
    "def remove_outliers(df, name, sd):\n",
    "    drop_rows = df.index[(np.abs(df[name] - df[name].mean()) >= (sd * df[name].std()))]\n",
    "    df.drop(drop_rows, axis=0, inplace=True)\n",
    "\n",
    "\n",
    "# Encode a column to a range between normalized_low and normalized_high.\n",
    "def encode_numeric_range(df, name, normalized_low=-1, normalized_high=1,\n",
    "                         data_low=None, data_high=None):\n",
    "    if data_low is None:\n",
    "        data_low = min(df[name])\n",
    "        data_high = max(df[name])\n",
    "\n",
    "    df[name] = ((df[name] - data_low) / (data_high - data_low)) \\\n",
    "               * (normalized_high - normalized_low) + normalized_low\n",
    "def plot_confusion_matrix(cm, names, title='Confusion matrix', cmap=plt.cm.Blues):\n",
    "    plt.imshow(cm, interpolation='nearest', cmap=cmap)\n",
    "    plt.title(title)\n",
    "    plt.colorbar()\n",
    "    tick_marks = np.arange(len(names))\n",
    "    plt.xticks(tick_marks, names, rotation=45)\n",
    "    plt.yticks(tick_marks, names)\n",
    "    plt.tight_layout()\n",
    "    plt.ylabel('True label')\n",
    "    plt.xlabel('Predicted label')\n",
    "def plot_roc(pred,y):\n",
    "    fpr, tpr, thresholds = roc_curve(y, pred)\n",
    "    roc_auc = auc(fpr, tpr)\n",
    "\n",
    "    plt.figure()\n",
    "    plt.plot(fpr, tpr, label='ROC curve (area = %0.2f)' % roc_auc)\n",
    "    plt.plot([0, 1], [0, 1], 'k--')\n",
    "    plt.xlim([0.0, 1.0])\n",
    "    plt.ylim([0.0, 1.05])\n",
    "    plt.xlabel('False Positive Rate')\n",
    "    plt.ylabel('True Positive Rate')\n",
    "    plt.title('Receiver Operating Characteristic (ROC)')\n",
    "    plt.legend(loc=\"lower right\")\n",
    "    plt.show()\n"
   ]
  },
  {
   "cell_type": "markdown",
   "metadata": {
    "id": "qU8FIYWRVXM1"
   },
   "source": [
    "## Switch and Verify GPU\n",
    "\n",
    "### To enable GPU backend for your notebook. Runtime->Change runtime type->Hardware Accelerator->GPU."
   ]
  },
  {
   "cell_type": "code",
   "execution_count": 3,
   "metadata": {
    "colab": {
     "base_uri": "https://localhost:8080/",
     "height": 35
    },
    "id": "1s9pBa09U_zJ",
    "outputId": "da897b0c-f467-4217-bf58-ac0776401f59"
   },
   "outputs": [
    {
     "data": {
      "application/vnd.google.colaboratory.intrinsic+json": {
       "type": "string"
      },
      "text/plain": [
       "'/device:GPU:0'"
      ]
     },
     "execution_count": 3,
     "metadata": {
      "tags": []
     },
     "output_type": "execute_result"
    }
   ],
   "source": [
    "import tensorflow as tf\n",
    "from tensorflow.keras.datasets import cifar10\n",
    "\n",
    "from tensorflow.keras.models import Sequential\n",
    "from tensorflow.keras.layers import Dense, Dropout, Activation, Flatten\n",
    "from tensorflow.keras.layers import Conv2D, MaxPooling2D\n",
    "\n",
    "\n",
    "tf.test.gpu_device_name()"
   ]
  },
  {
   "cell_type": "markdown",
   "metadata": {
    "id": "SFpkSEEDbTag"
   },
   "source": [
    "### If the above code output '/device:GPU:0',  you have switched to GPU successfully and you are ready to go. \n",
    "\n"
   ]
  },
  {
   "cell_type": "markdown",
   "metadata": {
    "collapsed": true,
    "id": "Kv39g9StfOff"
   },
   "source": [
    "## Part I:   Image classification without transfer learning\n",
    "\n",
    "https://www.cs.toronto.edu/~kriz/cifar.html"
   ]
  },
  {
   "cell_type": "code",
   "execution_count": 4,
   "metadata": {
    "id": "sXqK3EsEaZqw"
   },
   "outputs": [],
   "source": [
    "num_classes = 10\n",
    "mapping = ['airplane', 'automobile', 'bird', 'cat', 'deer', 'dog', 'frog', 'horse', 'ship', 'truck']\n",
    "outcomes = list(range(0, num_classes))"
   ]
  },
  {
   "cell_type": "code",
   "execution_count": 5,
   "metadata": {
    "id": "0495-SoMfOfg"
   },
   "outputs": [],
   "source": [
    "#  Load cifar-10 data and split it to training and test\n",
    "\n",
    "\n",
    "\n",
    "\n",
    "\n",
    "# The data split between train and test sets:\n",
    "(x_train, y_train), (x_test, y_test) = cifar10.load_data()\n"
   ]
  },
  {
   "cell_type": "code",
   "execution_count": 7,
   "metadata": {
    "colab": {
     "base_uri": "https://localhost:8080/"
    },
    "id": "9DWyVv_efOfj",
    "outputId": "1c305a19-be23-4c55-f2d7-e6f3841cf9cc"
   },
   "outputs": [
    {
     "name": "stdout",
     "output_type": "stream",
     "text": [
      "x_train shape: (50000, 32, 32, 3)\n",
      "y_train shape: (50000, 1)\n",
      "x_test shape: (10000, 32, 32, 3)\n",
      "y_test shape: (10000, 1)\n",
      "50000 train samples\n",
      "10000 test samples\n"
     ]
    }
   ],
   "source": [
    "# print out data shape\n",
    "\n",
    "print('x_train shape:', x_train.shape)\n",
    "print('y_train shape:', y_train.shape)\n",
    "\n",
    "print('x_test shape:', x_test.shape)\n",
    "print('y_test shape:', y_test.shape)\n",
    "\n",
    "\n",
    "print(x_train.shape[0], 'train samples')\n",
    "print(x_test.shape[0], 'test samples')"
   ]
  },
  {
   "cell_type": "code",
   "execution_count": 8,
   "metadata": {
    "colab": {
     "base_uri": "https://localhost:8080/"
    },
    "id": "5_Z_IKevu2Ji",
    "outputId": "29c7986c-e951-4e93-f808-72b7411bd5e8"
   },
   "outputs": [
    {
     "data": {
      "text/plain": [
       "array([[[100, 168, 231],\n",
       "        [100, 168, 229],\n",
       "        [101, 167, 230],\n",
       "        ...,\n",
       "        [ 95, 165, 231],\n",
       "        [ 94, 165, 228],\n",
       "        [ 95, 167, 229]],\n",
       "\n",
       "       [[103, 170, 230],\n",
       "        [103, 168, 228],\n",
       "        [104, 168, 226],\n",
       "        ...,\n",
       "        [ 97, 167, 229],\n",
       "        [ 97, 166, 227],\n",
       "        [ 97, 168, 229]],\n",
       "\n",
       "       [[107, 174, 233],\n",
       "        [106, 172, 230],\n",
       "        [106, 173, 229],\n",
       "        ...,\n",
       "        [100, 170, 230],\n",
       "        [100, 170, 230],\n",
       "        [101, 172, 232]],\n",
       "\n",
       "       ...,\n",
       "\n",
       "       [[165, 178, 177],\n",
       "        [159, 170, 167],\n",
       "        [167, 177, 170],\n",
       "        ...,\n",
       "        [ 75, 117, 154],\n",
       "        [ 75, 120, 157],\n",
       "        [ 72, 120, 158]],\n",
       "\n",
       "       [[158, 174, 172],\n",
       "        [173, 186, 182],\n",
       "        [182, 193, 188],\n",
       "        ...,\n",
       "        [ 76, 119, 154],\n",
       "        [ 75, 119, 153],\n",
       "        [ 77, 121, 154]],\n",
       "\n",
       "       [[161, 176, 174],\n",
       "        [162, 176, 172],\n",
       "        [160, 171, 169],\n",
       "        ...,\n",
       "        [ 98, 137, 167],\n",
       "        [129, 160, 183],\n",
       "        [162, 185, 202]]], dtype=uint8)"
      ]
     },
     "execution_count": 8,
     "metadata": {
      "tags": []
     },
     "output_type": "execute_result"
    }
   ],
   "source": [
    "# print out a random image in x_train as numpy array\n",
    "x_train[15]"
   ]
  },
  {
   "cell_type": "code",
   "execution_count": 9,
   "metadata": {
    "colab": {
     "base_uri": "https://localhost:8080/",
     "height": 283
    },
    "id": "cbcMvRhqvWAc",
    "outputId": "5c41736e-ac78-4dfa-a4cf-71b7d0126405"
   },
   "outputs": [
    {
     "data": {
      "text/plain": [
       "<matplotlib.image.AxesImage at 0x7fb5e008a0f0>"
      ]
     },
     "execution_count": 9,
     "metadata": {
      "tags": []
     },
     "output_type": "execute_result"
    },
    {
     "data": {
      "image/png": "[encoded data removed]",
      "text/plain": [
       "<Figure size 432x288 with 1 Axes>"
      ]
     },
     "metadata": {
      "needs_background": "light",
      "tags": []
     },
     "output_type": "display_data"
    }
   ],
   "source": [
    "# print it out as image\n",
    "\n",
    "import matplotlib.pyplot as plt\n",
    "\n",
    "\n",
    "plt.imshow(x_train[15])"
   ]
  },
  {
   "cell_type": "code",
   "execution_count": 10,
   "metadata": {
    "id": "qMwUTdqp0rUJ"
   },
   "outputs": [],
   "source": [
    "# Convert y_train from 2D to 1D \n",
    "\n",
    "y_train = y_train.reshape(50000)\n"
   ]
  },
  {
   "cell_type": "code",
   "execution_count": 11,
   "metadata": {
    "colab": {
     "base_uri": "https://localhost:8080/"
    },
    "id": "ojvUNZgG0xVe",
    "outputId": "5a909f87-6e4a-407f-f3ed-e6808b550343"
   },
   "outputs": [
    {
     "data": {
      "text/plain": [
       "(50000,)"
      ]
     },
     "execution_count": 11,
     "metadata": {
      "tags": []
     },
     "output_type": "execute_result"
    }
   ],
   "source": [
    "y_train.shape\n",
    "\n",
    "# expected output: (50000,)"
   ]
  },
  {
   "cell_type": "code",
   "execution_count": 12,
   "metadata": {
    "id": "HcrolrznfOf2"
   },
   "outputs": [],
   "source": [
    "# Convert y_test from 2D to 1D \n",
    "\n",
    "y_test = y_test.reshape(10000)\n"
   ]
  },
  {
   "cell_type": "code",
   "execution_count": 13,
   "metadata": {
    "colab": {
     "base_uri": "https://localhost:8080/"
    },
    "id": "iT3IYTNqfOf6",
    "outputId": "3bfcf513-e74d-4431-a2ea-8ed98326d65a"
   },
   "outputs": [
    {
     "data": {
      "text/plain": [
       "(10000,)"
      ]
     },
     "execution_count": 13,
     "metadata": {
      "tags": []
     },
     "output_type": "execute_result"
    }
   ],
   "source": [
    "y_test.shape\n",
    "# expected output: (10000,)"
   ]
  },
  {
   "cell_type": "code",
   "execution_count": 14,
   "metadata": {
    "colab": {
     "base_uri": "https://localhost:8080/"
    },
    "id": "5-lWtPlHfOf9",
    "outputId": "fa851264-4174-4da4-d71b-a86ac31710d9"
   },
   "outputs": [
    {
     "data": {
      "text/plain": [
       "array([[0., 0., 0., ..., 0., 0., 0.],\n",
       "       [0., 0., 0., ..., 0., 0., 1.],\n",
       "       [0., 0., 0., ..., 0., 0., 1.],\n",
       "       ...,\n",
       "       [0., 0., 0., ..., 0., 0., 1.],\n",
       "       [0., 1., 0., ..., 0., 0., 0.],\n",
       "       [0., 1., 0., ..., 0., 0., 0.]], dtype=float32)"
      ]
     },
     "execution_count": 14,
     "metadata": {
      "tags": []
     },
     "output_type": "execute_result"
    }
   ],
   "source": [
    "# Convert class vectors to one hot format\n",
    "\n",
    "y_train = tf.keras.utils.to_categorical(y_train, num_classes)\n",
    "y_test = tf.keras.utils.to_categorical(y_test, num_classes)\n",
    "y_train"
   ]
  },
  {
   "cell_type": "code",
   "execution_count": 15,
   "metadata": {
    "id": "DFzHf8QefOgC"
   },
   "outputs": [],
   "source": [
    "# Convert data from int to float and normalize it\n",
    "\n",
    "\n",
    "x_train = x_train.astype('float32')\n",
    "x_test = x_test.astype('float32')\n",
    "\n",
    "x_train /= 255\n",
    "x_test /= 255"
   ]
  },
  {
   "cell_type": "markdown",
   "metadata": {
    "id": "QXXjBVW1lDt1"
   },
   "source": [
    "###  Write your code in the cell below to create a CNN model which contains the following types of operations (layers):   \n",
    "\n",
    "- Conv2D\n",
    "- Activation\n",
    "- MaxPooling2D\n",
    "- Flatten\n",
    "- Dropout\n",
    "- Dense\n",
    "\n",
    "### (optional) You are also encouraged to create multiple models with different activiation functions, different numbers of neurons and layers for performance comparison."
   ]
  },
  {
   "cell_type": "code",
   "execution_count": 16,
   "metadata": {
    "colab": {
     "base_uri": "https://localhost:8080/"
    },
    "id": "grVEwQfQfOgE",
    "outputId": "c6a5d17e-206f-47c5-9fe0-5fbc98f17a62"
   },
   "outputs": [
    {
     "name": "stdout",
     "output_type": "stream",
     "text": [
      "Model: \"sequential\"\n",
      "_________________________________________________________________\n",
      "Layer (type)                 Output Shape              Param #   \n",
      "=================================================================\n",
      "conv2d (Conv2D)              (None, 30, 30, 32)        896       \n",
      "_________________________________________________________________\n",
      "conv2d_1 (Conv2D)            (None, 28, 28, 64)        18496     \n",
      "_________________________________________________________________\n",
      "max_pooling2d (MaxPooling2D) (None, 14, 14, 64)        0         \n",
      "_________________________________________________________________\n",
      "dropout (Dropout)            (None, 14, 14, 64)        0         \n",
      "_________________________________________________________________\n",
      "conv2d_2 (Conv2D)            (None, 12, 12, 128)       73856     \n",
      "_________________________________________________________________\n",
      "conv2d_3 (Conv2D)            (None, 10, 10, 256)       295168    \n",
      "_________________________________________________________________\n",
      "max_pooling2d_1 (MaxPooling2 (None, 5, 5, 256)         0         \n",
      "_________________________________________________________________\n",
      "dropout_1 (Dropout)          (None, 5, 5, 256)         0         \n",
      "_________________________________________________________________\n",
      "flatten (Flatten)            (None, 6400)              0         \n",
      "_________________________________________________________________\n",
      "dense (Dense)                (None, 512)               3277312   \n",
      "_________________________________________________________________\n",
      "dropout_2 (Dropout)          (None, 512)               0         \n",
      "_________________________________________________________________\n",
      "dense_1 (Dense)              (None, 10)                5130      \n",
      "=================================================================\n",
      "Total params: 3,670,858\n",
      "Trainable params: 3,670,858\n",
      "Non-trainable params: 0\n",
      "_________________________________________________________________\n",
      "Epoch 1/60\n",
      "782/782 - 16s - loss: 1.5225 - accuracy: 0.4402 - val_loss: 1.1680 - val_accuracy: 0.5797\n",
      "Epoch 2/60\n",
      "782/782 - 15s - loss: 1.0887 - accuracy: 0.6134 - val_loss: 0.9827 - val_accuracy: 0.6508\n",
      "Epoch 3/60\n",
      "782/782 - 15s - loss: 0.8949 - accuracy: 0.6856 - val_loss: 0.7798 - val_accuracy: 0.7314\n",
      "Epoch 4/60\n",
      "782/782 - 15s - loss: 0.7883 - accuracy: 0.7249 - val_loss: 0.7679 - val_accuracy: 0.7304\n",
      "Epoch 5/60\n",
      "782/782 - 15s - loss: 0.7095 - accuracy: 0.7522 - val_loss: 0.6759 - val_accuracy: 0.7693\n",
      "Epoch 6/60\n",
      "782/782 - 16s - loss: 0.6427 - accuracy: 0.7740 - val_loss: 0.6534 - val_accuracy: 0.7799\n",
      "Epoch 7/60\n",
      "782/782 - 16s - loss: 0.6028 - accuracy: 0.7882 - val_loss: 0.6589 - val_accuracy: 0.7757\n",
      "Epoch 8/60\n",
      "782/782 - 15s - loss: 0.5566 - accuracy: 0.8026 - val_loss: 0.6222 - val_accuracy: 0.7902\n",
      "Epoch 9/60\n",
      "782/782 - 15s - loss: 0.5143 - accuracy: 0.8176 - val_loss: 0.6135 - val_accuracy: 0.7949\n",
      "Epoch 10/60\n",
      "782/782 - 15s - loss: 0.4883 - accuracy: 0.8280 - val_loss: 0.6534 - val_accuracy: 0.7893\n",
      "Epoch 11/60\n",
      "782/782 - 15s - loss: 0.4515 - accuracy: 0.8410 - val_loss: 0.6594 - val_accuracy: 0.7860\n",
      "Epoch 12/60\n",
      "782/782 - 15s - loss: 0.4350 - accuracy: 0.8464 - val_loss: 0.6295 - val_accuracy: 0.7996\n",
      "Epoch 13/60\n",
      "782/782 - 15s - loss: 0.4096 - accuracy: 0.8543 - val_loss: 0.6414 - val_accuracy: 0.7916\n",
      "Epoch 14/60\n",
      "782/782 - 15s - loss: 0.3903 - accuracy: 0.8599 - val_loss: 0.6332 - val_accuracy: 0.7983\n",
      "Epoch 15/60\n",
      "782/782 - 15s - loss: 0.3682 - accuracy: 0.8703 - val_loss: 0.6457 - val_accuracy: 0.7970\n",
      "Epoch 16/60\n",
      "782/782 - 15s - loss: 0.3555 - accuracy: 0.8736 - val_loss: 0.6756 - val_accuracy: 0.7985\n",
      "Epoch 17/60\n",
      "782/782 - 15s - loss: 0.3456 - accuracy: 0.8781 - val_loss: 0.6519 - val_accuracy: 0.8056\n",
      "Epoch 18/60\n",
      "782/782 - 15s - loss: 0.3261 - accuracy: 0.8850 - val_loss: 0.6576 - val_accuracy: 0.8057\n",
      "Epoch 19/60\n",
      "782/782 - 15s - loss: 0.3180 - accuracy: 0.8882 - val_loss: 0.6457 - val_accuracy: 0.8022\n",
      "Epoch 00019: early stopping\n",
      "Model: \"sequential_1\"\n",
      "_________________________________________________________________\n",
      "Layer (type)                 Output Shape              Param #   \n",
      "=================================================================\n",
      "conv2d_4 (Conv2D)            (None, 30, 30, 32)        896       \n",
      "_________________________________________________________________\n",
      "conv2d_5 (Conv2D)            (None, 28, 28, 64)        18496     \n",
      "_________________________________________________________________\n",
      "max_pooling2d_2 (MaxPooling2 (None, 14, 14, 64)        0         \n",
      "_________________________________________________________________\n",
      "dropout_3 (Dropout)          (None, 14, 14, 64)        0         \n",
      "_________________________________________________________________\n",
      "conv2d_6 (Conv2D)            (None, 12, 12, 128)       73856     \n",
      "_________________________________________________________________\n",
      "conv2d_7 (Conv2D)            (None, 10, 10, 256)       295168    \n",
      "_________________________________________________________________\n",
      "max_pooling2d_3 (MaxPooling2 (None, 5, 5, 256)         0         \n",
      "_________________________________________________________________\n",
      "dropout_4 (Dropout)          (None, 5, 5, 256)         0         \n",
      "_________________________________________________________________\n",
      "flatten_1 (Flatten)          (None, 6400)              0         \n",
      "_________________________________________________________________\n",
      "dense_2 (Dense)              (None, 512)               3277312   \n",
      "_________________________________________________________________\n",
      "dropout_5 (Dropout)          (None, 512)               0         \n",
      "_________________________________________________________________\n",
      "dense_3 (Dense)              (None, 10)                5130      \n",
      "=================================================================\n",
      "Total params: 3,670,858\n",
      "Trainable params: 3,670,858\n",
      "Non-trainable params: 0\n",
      "_________________________________________________________________\n",
      "Epoch 1/60\n",
      "782/782 - 16s - loss: 1.5467 - accuracy: 0.4319 - val_loss: 1.2090 - val_accuracy: 0.5662\n",
      "Epoch 2/60\n",
      "782/782 - 15s - loss: 1.1231 - accuracy: 0.6041 - val_loss: 0.9826 - val_accuracy: 0.6498\n",
      "Epoch 3/60\n",
      "782/782 - 15s - loss: 0.9465 - accuracy: 0.6665 - val_loss: 0.8281 - val_accuracy: 0.7155\n",
      "Epoch 4/60\n",
      "782/782 - 15s - loss: 0.8317 - accuracy: 0.7077 - val_loss: 0.7501 - val_accuracy: 0.7388\n",
      "Epoch 5/60\n",
      "782/782 - 15s - loss: 0.7513 - accuracy: 0.7373 - val_loss: 0.7166 - val_accuracy: 0.7553\n",
      "Epoch 6/60\n",
      "782/782 - 15s - loss: 0.6910 - accuracy: 0.7599 - val_loss: 0.6771 - val_accuracy: 0.7678\n",
      "Epoch 7/60\n",
      "782/782 - 15s - loss: 0.6486 - accuracy: 0.7720 - val_loss: 0.6533 - val_accuracy: 0.7726\n",
      "Epoch 8/60\n",
      "782/782 - 16s - loss: 0.5976 - accuracy: 0.7897 - val_loss: 0.6387 - val_accuracy: 0.7844\n",
      "Epoch 9/60\n",
      "782/782 - 15s - loss: 0.5682 - accuracy: 0.8010 - val_loss: 0.6417 - val_accuracy: 0.7820\n",
      "Epoch 10/60\n",
      "782/782 - 15s - loss: 0.5370 - accuracy: 0.8115 - val_loss: 0.6288 - val_accuracy: 0.7855\n",
      "Epoch 11/60\n",
      "782/782 - 15s - loss: 0.5125 - accuracy: 0.8172 - val_loss: 0.6307 - val_accuracy: 0.7913\n",
      "Epoch 12/60\n",
      "782/782 - 15s - loss: 0.4806 - accuracy: 0.8299 - val_loss: 0.6251 - val_accuracy: 0.7943\n",
      "Epoch 13/60\n",
      "782/782 - 15s - loss: 0.4565 - accuracy: 0.8389 - val_loss: 0.6641 - val_accuracy: 0.7842\n",
      "Epoch 14/60\n",
      "782/782 - 15s - loss: 0.4502 - accuracy: 0.8414 - val_loss: 0.6115 - val_accuracy: 0.8004\n",
      "Epoch 15/60\n",
      "782/782 - 15s - loss: 0.4191 - accuracy: 0.8525 - val_loss: 0.6267 - val_accuracy: 0.7939\n",
      "Epoch 16/60\n",
      "782/782 - 15s - loss: 0.4068 - accuracy: 0.8563 - val_loss: 0.6311 - val_accuracy: 0.8008\n",
      "Epoch 17/60\n",
      "782/782 - 15s - loss: 0.3884 - accuracy: 0.8610 - val_loss: 0.6562 - val_accuracy: 0.8001\n",
      "Epoch 18/60\n",
      "782/782 - 15s - loss: 0.3721 - accuracy: 0.8692 - val_loss: 0.6382 - val_accuracy: 0.8025\n",
      "Epoch 19/60\n",
      "782/782 - 15s - loss: 0.3649 - accuracy: 0.8706 - val_loss: 0.6464 - val_accuracy: 0.7974\n",
      "Epoch 20/60\n",
      "782/782 - 15s - loss: 0.3440 - accuracy: 0.8785 - val_loss: 0.6588 - val_accuracy: 0.7984\n",
      "Epoch 21/60\n",
      "782/782 - 15s - loss: 0.3386 - accuracy: 0.8808 - val_loss: 0.6756 - val_accuracy: 0.8027\n",
      "Epoch 22/60\n",
      "782/782 - 15s - loss: 0.3275 - accuracy: 0.8862 - val_loss: 0.6542 - val_accuracy: 0.8064\n",
      "Epoch 23/60\n",
      "782/782 - 15s - loss: 0.3174 - accuracy: 0.8870 - val_loss: 0.6910 - val_accuracy: 0.8068\n",
      "Epoch 24/60\n",
      "782/782 - 15s - loss: 0.3143 - accuracy: 0.8894 - val_loss: 0.6700 - val_accuracy: 0.8024\n",
      "Epoch 00024: early stopping\n"
     ]
    }
   ],
   "source": [
    "batch_size = 64\n",
    "shape = x_train.shape[1:]\n",
    "epochs = 60\n",
    "kernel = (3,3)\n",
    "checkpointer = ModelCheckpoint(filepath=\"./best_weights_fairclass1.hdf5\", verbose=0, save_best_only=True) # save best model\n",
    "for i in range(2):\n",
    "  model = Sequential()\n",
    "  model.add(Conv2D(32, kernel_size = kernel, activation= 'relu', strides = (1, 1), padding='valid', input_shape = shape))\n",
    "\n",
    "  model.add(Conv2D(64, kernel_size=kernel, activation='relu'))\n",
    "  model.add(MaxPooling2D(pool_size=(2, 2), strides = None))\n",
    "  model.add(Dropout(0.25))\n",
    "  model.add(Conv2D(128, kernel_size=kernel, activation='relu'))\n",
    "  model.add(Conv2D(256, kernel_size=kernel, activation='relu'))\n",
    "\n",
    "  model.add(MaxPooling2D(pool_size=(2, 2), strides=None))\n",
    "  model.add(Dropout(0.25))\n",
    "  \n",
    "  model.add(Flatten())\n",
    " \n",
    "  model.add(Dense(512, activation='relu'))\n",
    "  model.add(Dropout(0.5))\n",
    "  model.add(Dense(num_classes, activation='softmax'))\n",
    "  model.summary()\n",
    "  model.compile(loss = 'categorical_crossentropy', optimizer=Adam(lr=0.001, decay=1e-6), metrics=['accuracy'])\n",
    "  monitor = EarlyStopping(monitor='val_loss', min_delta=1e-3, patience=10,verbose = 2, mode = 'auto')\n",
    "  model.fit(x_train, y_train, validation_data=(x_test, y_test), epochs = epochs, batch_size= batch_size,verbose=2,  callbacks=[monitor, checkpointer])\n"
   ]
  },
  {
   "cell_type": "markdown",
   "metadata": {
    "id": "uVNwHr_AmKJi"
   },
   "source": [
    "### Write your code in the cell below for compile, earlystopping and fit. Notice that you should use earlystopping"
   ]
  },
  {
   "cell_type": "markdown",
   "metadata": {
    "id": "Xigd26XOoU-F"
   },
   "source": [
    "### Write your code in the cell below to print out the Precision, Recall,  F1 score, and classification_*report*\n",
    "\n",
    "### Include your findings in the project report. "
   ]
  },
  {
   "cell_type": "code",
   "execution_count": 17,
   "metadata": {
    "colab": {
     "base_uri": "https://localhost:8080/",
     "height": 821
    },
    "id": "2_92T0bsfOgQ",
    "outputId": "9a8aaaf8-cc59-4b90-b5b2-6d5084ca46f6"
   },
   "outputs": [
    {
     "name": "stdout",
     "output_type": "stream",
     "text": [
      "Accuracy: 0.8004\n",
      "F1-score Averaged: 0.7991278766608453\n",
      "Confusing Matrix:\n",
      "[[827  12  39  10  20   1   7  11  50  23]\n",
      " [  7 892   2   3   3   3   9   1  20  60]\n",
      " [ 57   1 693  36  72  40  69  22   8   2]\n",
      " [ 16   4  68 604  59 121  84  28   8   8]\n",
      " [  7   1  52  43 783  20  44  42   6   2]\n",
      " [  6   0  47 132  45 699  29  36   3   3]\n",
      " [  4   0  27  34  14  10 892  10   7   2]\n",
      " [ 11   0  29  29  37  34   7 847   1   5]\n",
      " [ 51  19  10   8   3   1   8   2 884  14]\n",
      " [ 19  43   3   8   3   2   5   7  27 883]]\n"
     ]
    },
    {
     "data": {
      "image/png": "[encoded data removed]",
      "text/plain": [
       "<Figure size 432x288 with 2 Axes>"
      ]
     },
     "metadata": {
      "needs_background": "light",
      "tags": []
     },
     "output_type": "display_data"
    },
    {
     "name": "stdout",
     "output_type": "stream",
     "text": [
      "              precision    recall  f1-score   support\n",
      "\n",
      "           0       0.82      0.83      0.82      1000\n",
      "           1       0.92      0.89      0.90      1000\n",
      "           2       0.71      0.69      0.70      1000\n",
      "           3       0.67      0.60      0.63      1000\n",
      "           4       0.75      0.78      0.77      1000\n",
      "           5       0.75      0.70      0.72      1000\n",
      "           6       0.77      0.89      0.83      1000\n",
      "           7       0.84      0.85      0.84      1000\n",
      "           8       0.87      0.88      0.88      1000\n",
      "           9       0.88      0.88      0.88      1000\n",
      "\n",
      "    accuracy                           0.80     10000\n",
      "   macro avg       0.80      0.80      0.80     10000\n",
      "weighted avg       0.80      0.80      0.80     10000\n",
      "\n"
     ]
    }
   ],
   "source": [
    "model.load_weights(\"./best_weights_fairclass1.hdf5\")\n",
    "pred = model.predict(x_test)\n",
    "true = np.argmax(y_test, axis = 1)\n",
    "pred = np.argmax(pred, axis = 1)\n",
    "print(\"Accuracy:\", metrics.accuracy_score(true, pred))\n",
    "print(\"F1-score Averaged:\", metrics.f1_score(true, pred, average = 'weighted'))\n",
    "cm = metrics.confusion_matrix(true, pred)\n",
    "outcomes = list(range(0, num_classes))\n",
    "print(\"Confusing Matrix:\")\n",
    "print(cm)\n",
    "plot_confusion_matrix(cm, outcomes)\n",
    "plt.show()\n",
    "print(metrics.classification_report(true, pred))"
   ]
  },
  {
   "cell_type": "markdown",
   "metadata": {
    "id": "103RRPUvtOie"
   },
   "source": [
    "### Write your code in the cell below to show 3-5 images in the test set as well as their true labels and their labels predicted by your model.\n",
    "\n",
    "### Include your findings in the project report."
   ]
  },
  {
   "cell_type": "code",
   "execution_count": 19,
   "metadata": {
    "colab": {
     "base_uri": "https://localhost:8080/",
     "height": 1000
    },
    "id": "fFryw76VtOie",
    "outputId": "4615bb34-4950-4880-fb19-66034acbb652"
   },
   "outputs": [
    {
     "name": "stdout",
     "output_type": "stream",
     "text": [
      "True Label: 5, dog\n",
      "Predicted Label: 5, dog\n"
     ]
    },
    {
     "data": {
      "image/png": "[encoded data removed]",
      "text/plain": [
       "<Figure size 432x288 with 1 Axes>"
      ]
     },
     "metadata": {
      "needs_background": "light",
      "tags": []
     },
     "output_type": "display_data"
    },
    {
     "name": "stdout",
     "output_type": "stream",
     "text": [
      "True Label: 8, ship\n",
      "Predicted Label: 8, ship\n"
     ]
    },
    {
     "data": {
      "image/png": "[encoded data removed]",
      "text/plain": [
       "<Figure size 432x288 with 1 Axes>"
      ]
     },
     "metadata": {
      "needs_background": "light",
      "tags": []
     },
     "output_type": "display_data"
    },
    {
     "name": "stdout",
     "output_type": "stream",
     "text": [
      "True Label: 2, bird\n",
      "Predicted Label: 2, bird\n"
     ]
    },
    {
     "data": {
      "image/png": "[encoded data removed]",
      "text/plain": [
       "<Figure size 432x288 with 1 Axes>"
      ]
     },
     "metadata": {
      "needs_background": "light",
      "tags": []
     },
     "output_type": "display_data"
    },
    {
     "name": "stdout",
     "output_type": "stream",
     "text": [
      "True Label: 8, ship\n",
      "Predicted Label: 8, ship\n"
     ]
    },
    {
     "data": {
      "image/png": "[encoded data removed]",
      "text/plain": [
       "<Figure size 432x288 with 1 Axes>"
      ]
     },
     "metadata": {
      "needs_background": "light",
      "tags": []
     },
     "output_type": "display_data"
    },
    {
     "name": "stdout",
     "output_type": "stream",
     "text": [
      "True Label: 2, bird\n",
      "Predicted Label: 4, deer\n"
     ]
    },
    {
     "data": {
      "image/png": "[encoded data removed]",
      "text/plain": [
       "<Figure size 432x288 with 1 Axes>"
      ]
     },
     "metadata": {
      "needs_background": "light",
      "tags": []
     },
     "output_type": "display_data"
    }
   ],
   "source": [
    "for i in range(5):\n",
    "  image_index = np.random.randint(0, x_test.shape[0], 1)[0]\n",
    "  image = x_test[image_index]  \n",
    "  print(\"True Label:\", str(true[image_index]) + \",\", mapping[true[image_index]])\n",
    "  print(\"Predicted Label:\", str(pred[image_index]) + \",\", mapping[pred[image_index]])\n",
    "  plt.imshow(image)\n",
    "  plt.show()\n",
    "  "
   ]
  },
  {
   "cell_type": "markdown",
   "metadata": {
    "id": "Fy_pmQtv_M1Y"
   },
   "source": [
    "**Hyper Tunning** \n",
    "\n",
    "\n",
    "\n",
    "\n"
   ]
  },
  {
   "cell_type": "code",
   "execution_count": 21,
   "metadata": {
    "colab": {
     "base_uri": "https://localhost:8080/",
     "height": 1000
    },
    "id": "sfDut4Hw_jVb",
    "outputId": "dcf1b1fc-8772-4638-8fb6-c92e81a48b3e"
   },
   "outputs": [
    {
     "name": "stdout",
     "output_type": "stream",
     "text": [
      "Model: \"sequential_4\"\n",
      "_________________________________________________________________\n",
      "Layer (type)                 Output Shape              Param #   \n",
      "=================================================================\n",
      "conv2d_12 (Conv2D)           (None, 31, 31, 32)        416       \n",
      "_________________________________________________________________\n",
      "conv2d_13 (Conv2D)           (None, 30, 30, 64)        8256      \n",
      "_________________________________________________________________\n",
      "max_pooling2d_6 (MaxPooling2 (None, 15, 15, 64)        0         \n",
      "_________________________________________________________________\n",
      "dropout_10 (Dropout)         (None, 15, 15, 64)        0         \n",
      "_________________________________________________________________\n",
      "flatten_4 (Flatten)          (None, 14400)             0         \n",
      "_________________________________________________________________\n",
      "dense_8 (Dense)              (None, 512)               7373312   \n",
      "_________________________________________________________________\n",
      "dropout_11 (Dropout)         (None, 512)               0         \n",
      "_________________________________________________________________\n",
      "dense_9 (Dense)              (None, 10)                5130      \n",
      "=================================================================\n",
      "Total params: 7,387,114\n",
      "Trainable params: 7,387,114\n",
      "Non-trainable params: 0\n",
      "_________________________________________________________________\n",
      "Epoch 1/60\n",
      "1563/1563 - 17s - loss: 2.7117 - accuracy: 0.1742 - val_loss: 2.0609 - val_accuracy: 0.2279\n",
      "Epoch 2/60\n",
      "1563/1563 - 16s - loss: 2.1317 - accuracy: 0.2016 - val_loss: 1.9898 - val_accuracy: 0.2895\n",
      "Epoch 3/60\n",
      "1563/1563 - 17s - loss: 2.0694 - accuracy: 0.2284 - val_loss: 1.9238 - val_accuracy: 0.3029\n",
      "Epoch 4/60\n",
      "1563/1563 - 16s - loss: 1.9793 - accuracy: 0.2609 - val_loss: 1.8128 - val_accuracy: 0.3292\n",
      "Epoch 5/60\n",
      "1563/1563 - 16s - loss: 1.8305 - accuracy: 0.3133 - val_loss: 1.7140 - val_accuracy: 0.3775\n",
      "Epoch 6/60\n",
      "1563/1563 - 16s - loss: 1.7355 - accuracy: 0.3542 - val_loss: 1.5546 - val_accuracy: 0.4404\n",
      "Epoch 7/60\n",
      "1563/1563 - 16s - loss: 1.6683 - accuracy: 0.3800 - val_loss: 1.4664 - val_accuracy: 0.4515\n",
      "Epoch 8/60\n",
      "1563/1563 - 16s - loss: 1.6023 - accuracy: 0.4031 - val_loss: 1.4151 - val_accuracy: 0.4814\n",
      "Epoch 9/60\n",
      "1563/1563 - 16s - loss: 1.5435 - accuracy: 0.4260 - val_loss: 1.3878 - val_accuracy: 0.5008\n",
      "Epoch 10/60\n",
      "1563/1563 - 16s - loss: 1.4805 - accuracy: 0.4499 - val_loss: 1.3147 - val_accuracy: 0.5279\n",
      "Epoch 11/60\n",
      "1563/1563 - 16s - loss: 1.4386 - accuracy: 0.4674 - val_loss: 1.2427 - val_accuracy: 0.5560\n",
      "Epoch 12/60\n",
      "1563/1563 - 17s - loss: 1.3892 - accuracy: 0.4861 - val_loss: 1.2219 - val_accuracy: 0.5600\n",
      "Epoch 13/60\n",
      "1563/1563 - 16s - loss: 1.3472 - accuracy: 0.5032 - val_loss: 1.2614 - val_accuracy: 0.5603\n",
      "Epoch 14/60\n",
      "1563/1563 - 16s - loss: 1.3063 - accuracy: 0.5151 - val_loss: 1.1774 - val_accuracy: 0.5912\n",
      "Epoch 15/60\n",
      "1563/1563 - 16s - loss: 1.2692 - accuracy: 0.5348 - val_loss: 1.2102 - val_accuracy: 0.5848\n",
      "Epoch 16/60\n",
      "1563/1563 - 16s - loss: 1.2465 - accuracy: 0.5435 - val_loss: 1.1447 - val_accuracy: 0.5988\n",
      "Epoch 17/60\n",
      "1563/1563 - 16s - loss: 1.2115 - accuracy: 0.5527 - val_loss: 1.0969 - val_accuracy: 0.6158\n",
      "Epoch 18/60\n",
      "1563/1563 - 16s - loss: 1.1793 - accuracy: 0.5689 - val_loss: 1.1199 - val_accuracy: 0.6059\n",
      "Epoch 19/60\n",
      "1563/1563 - 16s - loss: 1.1487 - accuracy: 0.5762 - val_loss: 1.0878 - val_accuracy: 0.6114\n",
      "Epoch 20/60\n",
      "1563/1563 - 16s - loss: 1.1318 - accuracy: 0.5829 - val_loss: 1.0843 - val_accuracy: 0.6258\n",
      "Epoch 21/60\n",
      "1563/1563 - 17s - loss: 1.1128 - accuracy: 0.5890 - val_loss: 1.0596 - val_accuracy: 0.6220\n",
      "Epoch 22/60\n",
      "1563/1563 - 16s - loss: 1.0896 - accuracy: 0.6001 - val_loss: 1.0588 - val_accuracy: 0.6330\n",
      "Epoch 23/60\n",
      "1563/1563 - 16s - loss: 1.0701 - accuracy: 0.6053 - val_loss: 1.0671 - val_accuracy: 0.6239\n",
      "Epoch 24/60\n",
      "1563/1563 - 16s - loss: 1.0514 - accuracy: 0.6130 - val_loss: 1.0508 - val_accuracy: 0.6359\n",
      "Epoch 25/60\n",
      "1563/1563 - 16s - loss: 1.0387 - accuracy: 0.6149 - val_loss: 1.0559 - val_accuracy: 0.6341\n",
      "Epoch 26/60\n",
      "1563/1563 - 16s - loss: 1.0172 - accuracy: 0.6226 - val_loss: 1.0580 - val_accuracy: 0.6326\n",
      "Epoch 27/60\n",
      "1563/1563 - 16s - loss: 1.0038 - accuracy: 0.6284 - val_loss: 1.0369 - val_accuracy: 0.6437\n",
      "Epoch 28/60\n",
      "1563/1563 - 16s - loss: 0.9898 - accuracy: 0.6349 - val_loss: 1.0628 - val_accuracy: 0.6356\n",
      "Epoch 29/60\n",
      "1563/1563 - 16s - loss: 0.9778 - accuracy: 0.6374 - val_loss: 1.0807 - val_accuracy: 0.6329\n",
      "Epoch 30/60\n",
      "1563/1563 - 16s - loss: 0.9686 - accuracy: 0.6413 - val_loss: 1.0284 - val_accuracy: 0.6415\n",
      "Epoch 31/60\n",
      "1563/1563 - 17s - loss: 0.9570 - accuracy: 0.6445 - val_loss: 1.0464 - val_accuracy: 0.6432\n",
      "Epoch 32/60\n",
      "1563/1563 - 16s - loss: 0.9402 - accuracy: 0.6475 - val_loss: 1.0452 - val_accuracy: 0.6477\n",
      "Epoch 33/60\n",
      "1563/1563 - 16s - loss: 0.9315 - accuracy: 0.6543 - val_loss: 1.0497 - val_accuracy: 0.6451\n",
      "Epoch 34/60\n",
      "1563/1563 - 16s - loss: 0.9182 - accuracy: 0.6571 - val_loss: 1.0747 - val_accuracy: 0.6383\n",
      "Epoch 35/60\n",
      "1563/1563 - 16s - loss: 0.9138 - accuracy: 0.6593 - val_loss: 1.1070 - val_accuracy: 0.6343\n",
      "Epoch 00035: early stopping\n",
      "Model: \"sequential_5\"\n",
      "_________________________________________________________________\n",
      "Layer (type)                 Output Shape              Param #   \n",
      "=================================================================\n",
      "conv2d_14 (Conv2D)           (None, 31, 31, 32)        416       \n",
      "_________________________________________________________________\n",
      "conv2d_15 (Conv2D)           (None, 30, 30, 64)        8256      \n",
      "_________________________________________________________________\n",
      "max_pooling2d_7 (MaxPooling2 (None, 15, 15, 64)        0         \n",
      "_________________________________________________________________\n",
      "dropout_12 (Dropout)         (None, 15, 15, 64)        0         \n",
      "_________________________________________________________________\n",
      "flatten_5 (Flatten)          (None, 14400)             0         \n",
      "_________________________________________________________________\n",
      "dense_10 (Dense)             (None, 512)               7373312   \n",
      "_________________________________________________________________\n",
      "dropout_13 (Dropout)         (None, 512)               0         \n",
      "_________________________________________________________________\n",
      "dense_11 (Dense)             (None, 10)                5130      \n",
      "=================================================================\n",
      "Total params: 7,387,114\n",
      "Trainable params: 7,387,114\n",
      "Non-trainable params: 0\n",
      "_________________________________________________________________\n",
      "Epoch 1/60\n",
      "1563/1563 - 16s - loss: 2.6560 - accuracy: 0.1596 - val_loss: 2.1284 - val_accuracy: 0.2441\n",
      "Epoch 2/60\n",
      "1563/1563 - 16s - loss: 2.1682 - accuracy: 0.1879 - val_loss: 2.1013 - val_accuracy: 0.2029\n",
      "Epoch 3/60\n",
      "1563/1563 - 16s - loss: 2.1012 - accuracy: 0.2096 - val_loss: 1.9775 - val_accuracy: 0.2463\n",
      "Epoch 4/60\n",
      "1563/1563 - 16s - loss: 2.0060 - accuracy: 0.2513 - val_loss: 1.7981 - val_accuracy: 0.3363\n",
      "Epoch 5/60\n",
      "1563/1563 - 16s - loss: 1.8628 - accuracy: 0.3032 - val_loss: 1.6909 - val_accuracy: 0.3909\n",
      "Epoch 6/60\n",
      "1563/1563 - 16s - loss: 1.7469 - accuracy: 0.3433 - val_loss: 1.6012 - val_accuracy: 0.4207\n",
      "Epoch 7/60\n",
      "1563/1563 - 16s - loss: 1.6701 - accuracy: 0.3740 - val_loss: 1.4561 - val_accuracy: 0.4562\n",
      "Epoch 8/60\n",
      "1563/1563 - 16s - loss: 1.6024 - accuracy: 0.4013 - val_loss: 1.4047 - val_accuracy: 0.4924\n",
      "Epoch 9/60\n",
      "1563/1563 - 16s - loss: 1.5295 - accuracy: 0.4319 - val_loss: 1.3511 - val_accuracy: 0.5169\n",
      "Epoch 10/60\n",
      "1563/1563 - 16s - loss: 1.4750 - accuracy: 0.4529 - val_loss: 1.2925 - val_accuracy: 0.5398\n",
      "Epoch 11/60\n",
      "1563/1563 - 16s - loss: 1.4145 - accuracy: 0.4774 - val_loss: 1.2629 - val_accuracy: 0.5433\n",
      "Epoch 12/60\n",
      "1563/1563 - 16s - loss: 1.3619 - accuracy: 0.4964 - val_loss: 1.2483 - val_accuracy: 0.5460\n",
      "Epoch 13/60\n",
      "1563/1563 - 16s - loss: 1.3226 - accuracy: 0.5092 - val_loss: 1.1567 - val_accuracy: 0.5889\n",
      "Epoch 14/60\n",
      "1563/1563 - 16s - loss: 1.2804 - accuracy: 0.5275 - val_loss: 1.1257 - val_accuracy: 0.6035\n",
      "Epoch 15/60\n",
      "1563/1563 - 16s - loss: 1.2513 - accuracy: 0.5375 - val_loss: 1.1683 - val_accuracy: 0.6062\n",
      "Epoch 16/60\n",
      "1563/1563 - 16s - loss: 1.2117 - accuracy: 0.5523 - val_loss: 1.1062 - val_accuracy: 0.6069\n",
      "Epoch 17/60\n",
      "1563/1563 - 16s - loss: 1.1802 - accuracy: 0.5635 - val_loss: 1.1120 - val_accuracy: 0.6175\n",
      "Epoch 18/60\n",
      "1563/1563 - 16s - loss: 1.1553 - accuracy: 0.5725 - val_loss: 1.0710 - val_accuracy: 0.6277\n",
      "Epoch 19/60\n",
      "1563/1563 - 16s - loss: 1.1220 - accuracy: 0.5850 - val_loss: 1.0649 - val_accuracy: 0.6273\n",
      "Epoch 20/60\n",
      "1563/1563 - 16s - loss: 1.0957 - accuracy: 0.5946 - val_loss: 1.0468 - val_accuracy: 0.6317\n",
      "Epoch 21/60\n",
      "1563/1563 - 16s - loss: 1.0790 - accuracy: 0.6022 - val_loss: 1.0728 - val_accuracy: 0.6278\n",
      "Epoch 22/60\n",
      "1563/1563 - 16s - loss: 1.0549 - accuracy: 0.6113 - val_loss: 1.0692 - val_accuracy: 0.6161\n",
      "Epoch 23/60\n",
      "1563/1563 - 16s - loss: 1.0356 - accuracy: 0.6142 - val_loss: 1.0347 - val_accuracy: 0.6362\n",
      "Epoch 24/60\n",
      "1563/1563 - 16s - loss: 1.0115 - accuracy: 0.6262 - val_loss: 1.0452 - val_accuracy: 0.6396\n",
      "Epoch 25/60\n",
      "1563/1563 - 16s - loss: 0.9964 - accuracy: 0.6298 - val_loss: 1.0409 - val_accuracy: 0.6353\n",
      "Epoch 26/60\n",
      "1563/1563 - 16s - loss: 0.9804 - accuracy: 0.6352 - val_loss: 1.0459 - val_accuracy: 0.6394\n",
      "Epoch 27/60\n",
      "1563/1563 - 16s - loss: 0.9661 - accuracy: 0.6413 - val_loss: 1.0653 - val_accuracy: 0.6377\n",
      "Epoch 28/60\n",
      "1563/1563 - 16s - loss: 0.9494 - accuracy: 0.6481 - val_loss: 1.0318 - val_accuracy: 0.6430\n",
      "Epoch 29/60\n",
      "1563/1563 - 16s - loss: 0.9420 - accuracy: 0.6510 - val_loss: 1.0532 - val_accuracy: 0.6393\n",
      "Epoch 30/60\n",
      "1563/1563 - 16s - loss: 0.9203 - accuracy: 0.6578 - val_loss: 1.0308 - val_accuracy: 0.6461\n",
      "Epoch 31/60\n",
      "1563/1563 - 16s - loss: 0.9104 - accuracy: 0.6607 - val_loss: 1.0734 - val_accuracy: 0.6467\n",
      "Epoch 32/60\n",
      "1563/1563 - 16s - loss: 0.9008 - accuracy: 0.6601 - val_loss: 1.0632 - val_accuracy: 0.6440\n",
      "Epoch 33/60\n",
      "1563/1563 - 16s - loss: 0.8937 - accuracy: 0.6651 - val_loss: 1.0474 - val_accuracy: 0.6476\n",
      "Epoch 34/60\n",
      "1563/1563 - 16s - loss: 0.8812 - accuracy: 0.6724 - val_loss: 1.0599 - val_accuracy: 0.6471\n",
      "Epoch 35/60\n",
      "1563/1563 - 16s - loss: 0.8731 - accuracy: 0.6739 - val_loss: 1.0555 - val_accuracy: 0.6434\n",
      "Epoch 00035: early stopping\n",
      "Accuracy: 0.6415\n",
      "F1-score Averaged: 0.6477915749966021\n",
      "Confusing Matrix:\n",
      "[[676  15 101  36  15   5   6   6  94  46]\n",
      " [ 27 749   6  29   5   4   7   2  43 128]\n",
      " [ 65   4 446 118 176 106  42  22  10  11]\n",
      " [ 12   5  62 576 103 163  33  20  14  12]\n",
      " [ 21   1  78 132 641  30  21  62  12   2]\n",
      " [  7   2  44 263  65 571   3  37   6   2]\n",
      " [  4   6  54 165 126  26 612   4   0   3]\n",
      " [ 10   2  31  81 116  87   1 646   3  23]\n",
      " [114  47  10  41   8   8   2   2 738  30]\n",
      " [ 28  81   9  36  10   9   8  22  37 760]]\n"
     ]
    },
    {
     "data": {
      "image/png": "[encoded data removed]",
      "text/plain": [
       "<Figure size 432x288 with 2 Axes>"
      ]
     },
     "metadata": {
      "needs_background": "light",
      "tags": []
     },
     "output_type": "display_data"
    },
    {
     "name": "stdout",
     "output_type": "stream",
     "text": [
      "              precision    recall  f1-score   support\n",
      "\n",
      "           0       0.70      0.68      0.69      1000\n",
      "           1       0.82      0.75      0.78      1000\n",
      "           2       0.53      0.45      0.48      1000\n",
      "           3       0.39      0.58      0.47      1000\n",
      "           4       0.51      0.64      0.57      1000\n",
      "           5       0.57      0.57      0.57      1000\n",
      "           6       0.83      0.61      0.71      1000\n",
      "           7       0.78      0.65      0.71      1000\n",
      "           8       0.77      0.74      0.75      1000\n",
      "           9       0.75      0.76      0.75      1000\n",
      "\n",
      "    accuracy                           0.64     10000\n",
      "   macro avg       0.67      0.64      0.65     10000\n",
      "weighted avg       0.67      0.64      0.65     10000\n",
      "\n",
      "True Label: 0, airplane\n",
      "Predicted Label: 7, horse\n"
     ]
    },
    {
     "data": {
      "image/png": "[encoded data removed]",
      "text/plain": [
       "<Figure size 432x288 with 1 Axes>"
      ]
     },
     "metadata": {
      "needs_background": "light",
      "tags": []
     },
     "output_type": "display_data"
    },
    {
     "name": "stdout",
     "output_type": "stream",
     "text": [
      "True Label: 2, bird\n",
      "Predicted Label: 3, cat\n"
     ]
    },
    {
     "data": {
      "image/png": "[encoded data removed]",
      "text/plain": [
       "<Figure size 432x288 with 1 Axes>"
      ]
     },
     "metadata": {
      "needs_background": "light",
      "tags": []
     },
     "output_type": "display_data"
    },
    {
     "name": "stdout",
     "output_type": "stream",
     "text": [
      "True Label: 9, truck\n",
      "Predicted Label: 9, truck\n"
     ]
    },
    {
     "data": {
      "image/png": "[encoded data removed]",
      "text/plain": [
       "<Figure size 432x288 with 1 Axes>"
      ]
     },
     "metadata": {
      "needs_background": "light",
      "tags": []
     },
     "output_type": "display_data"
    },
    {
     "name": "stdout",
     "output_type": "stream",
     "text": [
      "True Label: 9, truck\n",
      "Predicted Label: 3, cat\n"
     ]
    },
    {
     "data": {
      "image/png": "[encoded data removed]",
      "text/plain": [
       "<Figure size 432x288 with 1 Axes>"
      ]
     },
     "metadata": {
      "needs_background": "light",
      "tags": []
     },
     "output_type": "display_data"
    },
    {
     "name": "stdout",
     "output_type": "stream",
     "text": [
      "True Label: 1, automobile\n",
      "Predicted Label: 9, truck\n"
     ]
    },
    {
     "data": {
      "image/png": "[encoded data removed]",
      "text/plain": [
       "<Figure size 432x288 with 1 Axes>"
      ]
     },
     "metadata": {
      "needs_background": "light",
      "tags": []
     },
     "output_type": "display_data"
    }
   ],
   "source": [
    "batch_size = 32\n",
    "shape = x_train.shape[1:]\n",
    "epochs = 60\n",
    "kernel = (2, 2)\n",
    "checkpointer = ModelCheckpoint(filepath=\"./best_weights_fairclass3.hdf5\", verbose=0, save_best_only=True) # save best model\n",
    "for i in range(2):\n",
    "  model = Sequential()\n",
    "  model.add(Conv2D(32, kernel_size = kernel, activation= 'sigmoid', strides = (1, 1), padding='valid', input_shape = shape))\n",
    "\n",
    "  model.add(Conv2D(64, kernel_size=kernel, activation='sigmoid'))\n",
    "  model.add(MaxPooling2D(pool_size=(2, 2), strides = None))\n",
    "  model.add(Dropout(0.25))\n",
    " \n",
    "  \n",
    "  model.add(Flatten())\n",
    " \n",
    "  model.add(Dense(512, activation='relu'))\n",
    "  model.add(Dropout(0.5))\n",
    "  model.add(Dense(num_classes, activation='softmax'))\n",
    "  model.summary()\n",
    "  model.compile(loss = 'categorical_crossentropy', optimizer=Adam(lr=0.01, decay=1e-6), metrics=['accuracy'])\n",
    "  monitor = EarlyStopping(monitor='val_loss', min_delta=1e-3, patience=5,verbose = 2, mode = 'auto')\n",
    "  model.fit(x_train, y_train, validation_data=(x_test, y_test), epochs = epochs, batch_size= batch_size,verbose=2,  callbacks=[monitor, checkpointer])\n",
    "model.load_weights(\"./best_weights_fairclass3.hdf5\")\n",
    "pred = model.predict(x_test)\n",
    "true = np.argmax(y_test, axis = 1)\n",
    "pred = np.argmax(pred, axis = 1)\n",
    "print(\"Accuracy:\", metrics.accuracy_score(true, pred))\n",
    "print(\"F1-score Averaged:\", metrics.f1_score(true, pred, average = 'weighted'))\n",
    "cm = metrics.confusion_matrix(true, pred)\n",
    "outcomes = list(range(0, num_classes))\n",
    "print(\"Confusing Matrix:\")\n",
    "print(cm)\n",
    "plot_confusion_matrix(cm, outcomes)\n",
    "plt.show()\n",
    "print(metrics.classification_report(true, pred))\n",
    "for i in range(5):\n",
    "  image_index = np.random.randint(0, x_test.shape[0], 1)[0]\n",
    "  image = x_test[image_index]  \n",
    "  print(\"True Label:\", str(true[image_index]) + \",\", mapping[true[image_index]])\n",
    "  print(\"Predicted Label:\", str(pred[image_index]) + \",\", mapping[pred[image_index]])\n",
    "  plt.imshow(image)\n",
    "  plt.show()\n",
    "\n"
   ]
  },
  {
   "cell_type": "code",
   "execution_count": 20,
   "metadata": {
    "colab": {
     "base_uri": "https://localhost:8080/",
     "height": 1000
    },
    "id": "xahxnHEhKLBX",
    "outputId": "b999b50a-0c35-4a58-cd7f-a1908a8ccf10"
   },
   "outputs": [
    {
     "name": "stdout",
     "output_type": "stream",
     "text": [
      "Model: \"sequential_2\"\n",
      "_________________________________________________________________\n",
      "Layer (type)                 Output Shape              Param #   \n",
      "=================================================================\n",
      "conv2d_8 (Conv2D)            (None, 31, 31, 32)        416       \n",
      "_________________________________________________________________\n",
      "conv2d_9 (Conv2D)            (None, 30, 30, 64)        8256      \n",
      "_________________________________________________________________\n",
      "max_pooling2d_4 (MaxPooling2 (None, 15, 15, 64)        0         \n",
      "_________________________________________________________________\n",
      "dropout_6 (Dropout)          (None, 15, 15, 64)        0         \n",
      "_________________________________________________________________\n",
      "flatten_2 (Flatten)          (None, 14400)             0         \n",
      "_________________________________________________________________\n",
      "dense_4 (Dense)              (None, 512)               7373312   \n",
      "_________________________________________________________________\n",
      "dropout_7 (Dropout)          (None, 512)               0         \n",
      "_________________________________________________________________\n",
      "dense_5 (Dense)              (None, 10)                5130      \n",
      "=================================================================\n",
      "Total params: 7,387,114\n",
      "Trainable params: 7,387,114\n",
      "Non-trainable params: 0\n",
      "_________________________________________________________________\n",
      "Epoch 1/60\n",
      "1786/1786 - 15s - loss: 1.9227 - accuracy: 0.3076 - val_loss: 1.6744 - val_accuracy: 0.4003\n",
      "Epoch 2/60\n",
      "1786/1786 - 15s - loss: 1.6033 - accuracy: 0.4299 - val_loss: 1.4476 - val_accuracy: 0.4709\n",
      "Epoch 3/60\n",
      "1786/1786 - 15s - loss: 1.4105 - accuracy: 0.4976 - val_loss: 1.2821 - val_accuracy: 0.5454\n",
      "Epoch 4/60\n",
      "1786/1786 - 15s - loss: 1.2957 - accuracy: 0.5391 - val_loss: 1.2107 - val_accuracy: 0.5678\n",
      "Epoch 5/60\n",
      "1786/1786 - 15s - loss: 1.2095 - accuracy: 0.5727 - val_loss: 1.1697 - val_accuracy: 0.5838\n",
      "Epoch 6/60\n",
      "1786/1786 - 15s - loss: 1.1415 - accuracy: 0.5960 - val_loss: 1.0925 - val_accuracy: 0.6150\n",
      "Epoch 7/60\n",
      "1786/1786 - 15s - loss: 1.0810 - accuracy: 0.6153 - val_loss: 1.0532 - val_accuracy: 0.6302\n",
      "Epoch 8/60\n",
      "1786/1786 - 15s - loss: 1.0254 - accuracy: 0.6398 - val_loss: 1.0304 - val_accuracy: 0.6432\n",
      "Epoch 9/60\n",
      "1786/1786 - 15s - loss: 0.9685 - accuracy: 0.6581 - val_loss: 0.9864 - val_accuracy: 0.6500\n",
      "Epoch 10/60\n",
      "1786/1786 - 15s - loss: 0.9203 - accuracy: 0.6750 - val_loss: 0.9546 - val_accuracy: 0.6635\n",
      "Epoch 11/60\n",
      "1786/1786 - 15s - loss: 0.8767 - accuracy: 0.6911 - val_loss: 0.9374 - val_accuracy: 0.6701\n",
      "Epoch 12/60\n",
      "1786/1786 - 15s - loss: 0.8286 - accuracy: 0.7071 - val_loss: 0.9074 - val_accuracy: 0.6841\n",
      "Epoch 13/60\n",
      "1786/1786 - 15s - loss: 0.7869 - accuracy: 0.7240 - val_loss: 0.9138 - val_accuracy: 0.6811\n",
      "Epoch 14/60\n",
      "1786/1786 - 15s - loss: 0.7438 - accuracy: 0.7390 - val_loss: 0.8730 - val_accuracy: 0.6982\n",
      "Epoch 15/60\n",
      "1786/1786 - 15s - loss: 0.7017 - accuracy: 0.7532 - val_loss: 0.8845 - val_accuracy: 0.6915\n",
      "Epoch 16/60\n",
      "1786/1786 - 15s - loss: 0.6665 - accuracy: 0.7644 - val_loss: 0.8585 - val_accuracy: 0.7013\n",
      "Epoch 17/60\n",
      "1786/1786 - 15s - loss: 0.6321 - accuracy: 0.7757 - val_loss: 0.8506 - val_accuracy: 0.7119\n",
      "Epoch 18/60\n",
      "1786/1786 - 15s - loss: 0.5928 - accuracy: 0.7918 - val_loss: 0.8611 - val_accuracy: 0.7010\n",
      "Epoch 19/60\n",
      "1786/1786 - 16s - loss: 0.5568 - accuracy: 0.8041 - val_loss: 0.8351 - val_accuracy: 0.7134\n",
      "Epoch 20/60\n",
      "1786/1786 - 15s - loss: 0.5320 - accuracy: 0.8109 - val_loss: 0.8557 - val_accuracy: 0.7086\n",
      "Epoch 21/60\n",
      "1786/1786 - 15s - loss: 0.5004 - accuracy: 0.8238 - val_loss: 0.8482 - val_accuracy: 0.7160\n",
      "Epoch 22/60\n",
      "1786/1786 - 15s - loss: 0.4659 - accuracy: 0.8338 - val_loss: 0.8518 - val_accuracy: 0.7136\n",
      "Epoch 23/60\n",
      "1786/1786 - 15s - loss: 0.4333 - accuracy: 0.8456 - val_loss: 0.8601 - val_accuracy: 0.7204\n",
      "Epoch 24/60\n",
      "1786/1786 - 15s - loss: 0.4174 - accuracy: 0.8506 - val_loss: 0.8530 - val_accuracy: 0.7194\n",
      "Epoch 00024: early stopping\n",
      "Model: \"sequential_3\"\n",
      "_________________________________________________________________\n",
      "Layer (type)                 Output Shape              Param #   \n",
      "=================================================================\n",
      "conv2d_10 (Conv2D)           (None, 31, 31, 32)        416       \n",
      "_________________________________________________________________\n",
      "conv2d_11 (Conv2D)           (None, 30, 30, 64)        8256      \n",
      "_________________________________________________________________\n",
      "max_pooling2d_5 (MaxPooling2 (None, 15, 15, 64)        0         \n",
      "_________________________________________________________________\n",
      "dropout_8 (Dropout)          (None, 15, 15, 64)        0         \n",
      "_________________________________________________________________\n",
      "flatten_3 (Flatten)          (None, 14400)             0         \n",
      "_________________________________________________________________\n",
      "dense_6 (Dense)              (None, 512)               7373312   \n",
      "_________________________________________________________________\n",
      "dropout_9 (Dropout)          (None, 512)               0         \n",
      "_________________________________________________________________\n",
      "dense_7 (Dense)              (None, 10)                5130      \n",
      "=================================================================\n",
      "Total params: 7,387,114\n",
      "Trainable params: 7,387,114\n",
      "Non-trainable params: 0\n",
      "_________________________________________________________________\n",
      "Epoch 1/60\n",
      "1786/1786 - 15s - loss: 1.9394 - accuracy: 0.3001 - val_loss: 1.6712 - val_accuracy: 0.4174\n",
      "Epoch 2/60\n",
      "1786/1786 - 15s - loss: 1.6200 - accuracy: 0.4227 - val_loss: 1.4312 - val_accuracy: 0.4813\n",
      "Epoch 3/60\n",
      "1786/1786 - 15s - loss: 1.4379 - accuracy: 0.4838 - val_loss: 1.2900 - val_accuracy: 0.5434\n",
      "Epoch 4/60\n",
      "1786/1786 - 15s - loss: 1.3092 - accuracy: 0.5323 - val_loss: 1.2039 - val_accuracy: 0.5759\n",
      "Epoch 5/60\n",
      "1786/1786 - 15s - loss: 1.2047 - accuracy: 0.5733 - val_loss: 1.1268 - val_accuracy: 0.6034\n",
      "Epoch 6/60\n",
      "1786/1786 - 15s - loss: 1.1268 - accuracy: 0.5997 - val_loss: 1.0616 - val_accuracy: 0.6281\n",
      "Epoch 7/60\n",
      "1786/1786 - 15s - loss: 1.0558 - accuracy: 0.6278 - val_loss: 1.0145 - val_accuracy: 0.6451\n",
      "Epoch 8/60\n",
      "1786/1786 - 15s - loss: 0.9974 - accuracy: 0.6460 - val_loss: 0.9898 - val_accuracy: 0.6489\n",
      "Epoch 9/60\n",
      "1786/1786 - 15s - loss: 0.9460 - accuracy: 0.6663 - val_loss: 0.9561 - val_accuracy: 0.6614\n",
      "Epoch 10/60\n",
      "1786/1786 - 15s - loss: 0.8962 - accuracy: 0.6840 - val_loss: 0.9417 - val_accuracy: 0.6743\n",
      "Epoch 11/60\n",
      "1786/1786 - 15s - loss: 0.8479 - accuracy: 0.7023 - val_loss: 0.8997 - val_accuracy: 0.6849\n",
      "Epoch 12/60\n",
      "1786/1786 - 15s - loss: 0.8066 - accuracy: 0.7158 - val_loss: 0.8798 - val_accuracy: 0.6965\n",
      "Epoch 13/60\n",
      "1786/1786 - 15s - loss: 0.7691 - accuracy: 0.7273 - val_loss: 0.8789 - val_accuracy: 0.6939\n",
      "Epoch 14/60\n",
      "1786/1786 - 15s - loss: 0.7240 - accuracy: 0.7433 - val_loss: 0.8538 - val_accuracy: 0.7018\n",
      "Epoch 15/60\n",
      "1786/1786 - 15s - loss: 0.6914 - accuracy: 0.7556 - val_loss: 0.8466 - val_accuracy: 0.7075\n",
      "Epoch 16/60\n",
      "1786/1786 - 16s - loss: 0.6487 - accuracy: 0.7720 - val_loss: 0.8569 - val_accuracy: 0.7021\n",
      "Epoch 17/60\n",
      "1786/1786 - 15s - loss: 0.6130 - accuracy: 0.7832 - val_loss: 0.8355 - val_accuracy: 0.7110\n",
      "Epoch 18/60\n",
      "1786/1786 - 15s - loss: 0.5809 - accuracy: 0.7959 - val_loss: 0.8424 - val_accuracy: 0.7125\n",
      "Epoch 19/60\n",
      "1786/1786 - 15s - loss: 0.5451 - accuracy: 0.8071 - val_loss: 0.8364 - val_accuracy: 0.7164\n",
      "Epoch 20/60\n",
      "1786/1786 - 15s - loss: 0.5171 - accuracy: 0.8163 - val_loss: 0.8465 - val_accuracy: 0.7106\n",
      "Epoch 21/60\n",
      "1786/1786 - 15s - loss: 0.4838 - accuracy: 0.8280 - val_loss: 0.8442 - val_accuracy: 0.7189\n",
      "Epoch 22/60\n",
      "1786/1786 - 15s - loss: 0.4574 - accuracy: 0.8386 - val_loss: 0.8356 - val_accuracy: 0.7229\n",
      "Epoch 00022: early stopping\n",
      "Accuracy: 0.7134\n",
      "F1-score Averaged: 0.7138679566320161\n",
      "Confusing Matrix:\n",
      "[[759  10  57  19  16   6   8   6  83  36]\n",
      " [ 21 818  11  12   1   2   6   4  46  79]\n",
      " [ 58   4 616  66  99  59  37  34  19   8]\n",
      " [ 19   9  84 559  77 127  55  32  27  11]\n",
      " [ 18   1  89  72 677  20  32  70  19   2]\n",
      " [ 15   4  65 194  57 587  17  44  12   5]\n",
      " [  7   4  49  79  69  17 746  10  15   4]\n",
      " [ 16   4  45  46  55  47   5 771   4   7]\n",
      " [ 57  30  10  12   5   3   4   1 855  23]\n",
      " [ 42  98  10  13   5   6  10  21  49 746]]\n"
     ]
    },
    {
     "data": {
      "image/png": "[encoded data removed]",
      "text/plain": [
       "<Figure size 432x288 with 2 Axes>"
      ]
     },
     "metadata": {
      "needs_background": "light",
      "tags": []
     },
     "output_type": "display_data"
    },
    {
     "name": "stdout",
     "output_type": "stream",
     "text": [
      "              precision    recall  f1-score   support\n",
      "\n",
      "           0       0.75      0.76      0.75      1000\n",
      "           1       0.83      0.82      0.83      1000\n",
      "           2       0.59      0.62      0.61      1000\n",
      "           3       0.52      0.56      0.54      1000\n",
      "           4       0.64      0.68      0.66      1000\n",
      "           5       0.67      0.59      0.63      1000\n",
      "           6       0.81      0.75      0.78      1000\n",
      "           7       0.78      0.77      0.77      1000\n",
      "           8       0.76      0.85      0.80      1000\n",
      "           9       0.81      0.75      0.78      1000\n",
      "\n",
      "    accuracy                           0.71     10000\n",
      "   macro avg       0.72      0.71      0.71     10000\n",
      "weighted avg       0.72      0.71      0.71     10000\n",
      "\n",
      "True Label: 8, ship\n",
      "Predicted Label: 8, ship\n"
     ]
    },
    {
     "data": {
      "image/png": "[encoded data removed]",
      "text/plain": [
       "<Figure size 432x288 with 1 Axes>"
      ]
     },
     "metadata": {
      "needs_background": "light",
      "tags": []
     },
     "output_type": "display_data"
    },
    {
     "name": "stdout",
     "output_type": "stream",
     "text": [
      "True Label: 6, frog\n",
      "Predicted Label: 6, frog\n"
     ]
    },
    {
     "data": {
      "image/png": "[encoded data removed]",
      "text/plain": [
       "<Figure size 432x288 with 1 Axes>"
      ]
     },
     "metadata": {
      "needs_background": "light",
      "tags": []
     },
     "output_type": "display_data"
    },
    {
     "name": "stdout",
     "output_type": "stream",
     "text": [
      "True Label: 3, cat\n",
      "Predicted Label: 4, deer\n"
     ]
    },
    {
     "data": {
      "image/png": "[encoded data removed]",
      "text/plain": [
       "<Figure size 432x288 with 1 Axes>"
      ]
     },
     "metadata": {
      "needs_background": "light",
      "tags": []
     },
     "output_type": "display_data"
    },
    {
     "name": "stdout",
     "output_type": "stream",
     "text": [
      "True Label: 9, truck\n",
      "Predicted Label: 1, automobile\n"
     ]
    },
    {
     "data": {
      "image/png": "[encoded data removed]",
      "text/plain": [
       "<Figure size 432x288 with 1 Axes>"
      ]
     },
     "metadata": {
      "needs_background": "light",
      "tags": []
     },
     "output_type": "display_data"
    },
    {
     "name": "stdout",
     "output_type": "stream",
     "text": [
      "True Label: 9, truck\n",
      "Predicted Label: 9, truck\n"
     ]
    },
    {
     "data": {
      "image/png": "[encoded data removed]",
      "text/plain": [
       "<Figure size 432x288 with 1 Axes>"
      ]
     },
     "metadata": {
      "needs_background": "light",
      "tags": []
     },
     "output_type": "display_data"
    }
   ],
   "source": [
    "batch_size = 28\n",
    "shape = x_train.shape[1:]\n",
    "epochs = 60\n",
    "kernel = (2, 2)\n",
    "checkpointer = ModelCheckpoint(filepath=\"./best_weights_fairclass4.hdf5\", verbose=0, save_best_only=True) # save best model\n",
    "for i in range(2):\n",
    "  model = Sequential()\n",
    "  model.add(Conv2D(32, kernel_size = kernel, activation= 'relu', strides = (1, 1), padding='valid', input_shape = shape))\n",
    "\n",
    "  model.add(Conv2D(64, kernel_size=kernel, activation='relu'))\n",
    "  model.add(MaxPooling2D(pool_size=(2, 2), strides = None))\n",
    "  model.add(Dropout(0.25))\n",
    " \n",
    "  \n",
    "  model.add(Flatten())\n",
    " \n",
    "  model.add(Dense(512, activation='relu'))\n",
    "  model.add(Dropout(0.5))\n",
    "  model.add(Dense(num_classes, activation='softmax'))\n",
    "  model.summary()\n",
    "  model.compile(loss = 'categorical_crossentropy', optimizer='sgd', metrics=['accuracy'])\n",
    "  monitor = EarlyStopping(monitor='val_loss', min_delta=1e-3, patience=5,verbose = 2, mode = 'auto')\n",
    "  model.fit(x_train, y_train, validation_data=(x_test, y_test), epochs = epochs, batch_size= batch_size,verbose=2,  callbacks=[monitor, checkpointer])\n",
    "model.load_weights(\"./best_weights_fairclass4.hdf5\")\n",
    "pred = model.predict(x_test)\n",
    "true = np.argmax(y_test, axis = 1)\n",
    "pred = np.argmax(pred, axis = 1)\n",
    "print(\"Accuracy:\", metrics.accuracy_score(true, pred))\n",
    "print(\"F1-score Averaged:\", metrics.f1_score(true, pred, average = 'weighted'))\n",
    "cm = metrics.confusion_matrix(true, pred)\n",
    "outcomes = list(range(0, num_classes))\n",
    "print(\"Confusing Matrix:\")\n",
    "print(cm)\n",
    "plot_confusion_matrix(cm, outcomes)\n",
    "plt.show()\n",
    "print(metrics.classification_report(true, pred))\n",
    "for i in range(5):\n",
    "  image_index = np.random.randint(0, x_test.shape[0], 1)[0]\n",
    "  image = x_test[image_index]  \n",
    "  print(\"True Label:\", str(true[image_index]) + \",\", mapping[true[image_index]])\n",
    "  print(\"Predicted Label:\", str(pred[image_index]) + \",\", mapping[pred[image_index]])\n",
    "  plt.imshow(image)\n",
    "  plt.show()\n",
    "\n"
   ]
  },
  {
   "cell_type": "markdown",
   "metadata": {
    "id": "MgBnw9dRfOgS"
   },
   "source": [
    "\n",
    "\n",
    "## Part II:   CNN model with Transfer Learning"
   ]
  },
  {
   "cell_type": "code",
   "execution_count": 22,
   "metadata": {
    "colab": {
     "base_uri": "https://localhost:8080/"
    },
    "id": "H9rvtqrsfOgT",
    "outputId": "ce85802e-ae14-4f15-e006-0cf2bb05c606"
   },
   "outputs": [
    {
     "name": "stdout",
     "output_type": "stream",
     "text": [
      "x_train shape: (50000, 32, 32, 3)\n",
      "y_train shape: (50000, 1)\n",
      "x_test shape: (10000, 32, 32, 3)\n",
      "y_test shape: (10000, 1)\n",
      "50000 train samples\n",
      "10000 test samples\n"
     ]
    }
   ],
   "source": [
    "# We load data again.   The data split between train and test sets:\n",
    "\n",
    "(x_train, y_train), (x_test, y_test) = cifar10.load_data()\n",
    "\n",
    "\n",
    "\n",
    "print('x_train shape:', x_train.shape)\n",
    "print('y_train shape:', y_train.shape)\n",
    "\n",
    "print('x_test shape:', x_test.shape)\n",
    "print('y_test shape:', y_test.shape)\n",
    "\n",
    "\n",
    "print(x_train.shape[0], 'train samples')\n",
    "print(x_test.shape[0], 'test samples')"
   ]
  },
  {
   "cell_type": "markdown",
   "metadata": {
    "id": "UGSxqVVypDiX"
   },
   "source": [
    "### Here we would like to use one pre-trained model called VGG16.   For more details on VGG16, please go to https://neurohive.io/en/popular-networks/vgg16/\n",
    "\n",
    "\n",
    "### VGG16 supports down to 48x48 images as an input. However, the resolution of our images is too low, which is (32, 32) so we need to increase the resolution.   This is called upsampling. \n",
    "\n",
    "\n",
    "\n",
    "### Find a way to do upsampling for each image to increase its resolution from 32x32 to 64x64. One option is to use the function resize(), which is provided by scikit-image library (https://scikit-image.org/)\n",
    "\n",
    "\n",
    "### Things to note: \n",
    "\n",
    "#### (1) If you use resize() in scikit-image, that function also normalizes the input image so you may not want to normalize twice.\n",
    "\n",
    "#### (2) Apply upsampling to x_train and x_test seperately. "
   ]
  },
  {
   "cell_type": "code",
   "execution_count": 23,
   "metadata": {
    "colab": {
     "base_uri": "https://localhost:8080/"
    },
    "id": "XWwBKsh-fOgX",
    "outputId": "2babd4ec-b4e3-4ccb-f98f-3f08124cf93b"
   },
   "outputs": [
    {
     "name": "stdout",
     "output_type": "stream",
     "text": [
      "(50000, 64, 64, 3)\n",
      "[[[0.17352941 0.18529412 0.18676471]\n",
      "  [0.17352941 0.18529412 0.18676471]\n",
      "  [0.14215686 0.15196078 0.1504902 ]\n",
      "  ...\n",
      "  [0.56151961 0.44926471 0.35147059]\n",
      "  [0.55710784 0.4497549  0.35637255]\n",
      "  [0.55710784 0.4497549  0.35637255]]\n",
      "\n",
      " [[0.17352941 0.18529412 0.18676471]\n",
      "  [0.17352941 0.18529412 0.18676471]\n",
      "  [0.14215686 0.15196078 0.1504902 ]\n",
      "  ...\n",
      "  [0.56151961 0.44926471 0.35147059]\n",
      "  [0.55710784 0.4497549  0.35637255]\n",
      "  [0.55710784 0.4497549  0.35637255]]\n",
      "\n",
      " [[0.08921569 0.10098039 0.10147059]\n",
      "  [0.08921569 0.10098039 0.10147059]\n",
      "  [0.05784314 0.06372549 0.06323529]\n",
      "  ...\n",
      "  [0.5002451  0.36936275 0.25245098]\n",
      "  [0.50269608 0.3747549  0.26323529]\n",
      "  [0.50269608 0.3747549  0.26323529]]\n",
      "\n",
      " ...\n",
      "\n",
      " [[0.69558824 0.53455882 0.35098039]\n",
      "  [0.69558824 0.53455882 0.35098039]\n",
      "  [0.68088235 0.50367647 0.26078431]\n",
      "  ...\n",
      "  [0.41617647 0.28504902 0.17941176]\n",
      "  [0.38186275 0.25906863 0.17352941]\n",
      "  [0.38186275 0.25906863 0.17352941]]\n",
      "\n",
      " [[0.68872549 0.54485294 0.40588235]\n",
      "  [0.68872549 0.54485294 0.40588235]\n",
      "  [0.67205882 0.51495098 0.34705882]\n",
      "  ...\n",
      "  [0.51519608 0.38651961 0.27156863]\n",
      "  [0.46715686 0.34387255 0.25392157]\n",
      "  [0.46715686 0.34387255 0.25392157]]\n",
      "\n",
      " [[0.68872549 0.54485294 0.40588235]\n",
      "  [0.68872549 0.54485294 0.40588235]\n",
      "  [0.67205882 0.51495098 0.34705882]\n",
      "  ...\n",
      "  [0.51519608 0.38651961 0.27156863]\n",
      "  [0.46715686 0.34387255 0.25392157]\n",
      "  [0.46715686 0.34387255 0.25392157]]]\n"
     ]
    }
   ],
   "source": [
    "import skimage.transform\n",
    "\n",
    "\n",
    "new_x_train = []\n",
    "for image in x_train:\n",
    "  new_x_train.append(skimage.transform.resize(image, (64, 64)))\n",
    "\n",
    "new_x_train = np.array(new_x_train)\n",
    "print(new_x_train.shape)\n",
    "print(new_x_train[0])\n",
    "  \n",
    "\n",
    "# this process may take about a few minutes ...."
   ]
  },
  {
   "cell_type": "code",
   "execution_count": 24,
   "metadata": {
    "colab": {
     "base_uri": "https://localhost:8080/"
    },
    "id": "0s0-oaKDfOgf",
    "outputId": "8ab952f3-9cde-427a-fc2e-ea62ff50632d"
   },
   "outputs": [
    {
     "name": "stdout",
     "output_type": "stream",
     "text": [
      "(10000, 64, 64, 3)\n",
      "[[[0.61421569 0.4379902  0.18995098]\n",
      "  [0.61421569 0.4379902  0.18995098]\n",
      "  [0.61519608 0.43553922 0.18161765]\n",
      "  ...\n",
      "  [0.48431373 0.35171569 0.13553922]\n",
      "  [0.46666667 0.34142157 0.13210784]\n",
      "  [0.46666667 0.34142157 0.13210784]]\n",
      "\n",
      " [[0.61421569 0.4379902  0.18995098]\n",
      "  [0.61421569 0.4379902  0.18995098]\n",
      "  [0.61519608 0.43553922 0.18161765]\n",
      "  ...\n",
      "  [0.48431373 0.35171569 0.13553922]\n",
      "  [0.46666667 0.34142157 0.13210784]\n",
      "  [0.46666667 0.34142157 0.13210784]]\n",
      "\n",
      " [[0.60147059 0.4375     0.18946078]\n",
      "  [0.60147059 0.4375     0.18946078]\n",
      "  [0.6004902  0.43406863 0.17230392]\n",
      "  ...\n",
      "  [0.48431373 0.35318627 0.13014706]\n",
      "  [0.47058824 0.34583333 0.13161765]\n",
      "  [0.47058824 0.34583333 0.13161765]]\n",
      "\n",
      " ...\n",
      "\n",
      " [[0.22401961 0.43529412 0.63357843]\n",
      "  [0.22401961 0.43529412 0.63357843]\n",
      "  [0.20735294 0.41372549 0.59877451]\n",
      "  ...\n",
      "  [0.10882353 0.30612745 0.47843137]\n",
      "  [0.08921569 0.27132353 0.44117647]\n",
      "  [0.08921569 0.27132353 0.44117647]]\n",
      "\n",
      " [[0.21715686 0.42352941 0.62230392]\n",
      "  [0.21715686 0.42352941 0.62230392]\n",
      "  [0.21421569 0.41372549 0.59632353]\n",
      "  ...\n",
      "  [0.11666667 0.31053922 0.48431373]\n",
      "  [0.09313725 0.27671569 0.44705882]\n",
      "  [0.09313725 0.27671569 0.44705882]]\n",
      "\n",
      " [[0.21715686 0.42352941 0.62230392]\n",
      "  [0.21715686 0.42352941 0.62230392]\n",
      "  [0.21421569 0.41372549 0.59632353]\n",
      "  ...\n",
      "  [0.11666667 0.31053922 0.48431373]\n",
      "  [0.09313725 0.27671569 0.44705882]\n",
      "  [0.09313725 0.27671569 0.44705882]]]\n"
     ]
    }
   ],
   "source": [
    "new_x_test = []\n",
    "for image in x_test:\n",
    "  new_x_test.append(skimage.transform.resize(image, (64, 64)))\n",
    "\n",
    "new_x_test = np.array(new_x_test)\n",
    "print(new_x_test.shape)\n",
    "print(new_x_test[0])\n",
    "\n",
    "\n",
    "\n",
    "# this process may take about a few minutes ...."
   ]
  },
  {
   "cell_type": "code",
   "execution_count": 25,
   "metadata": {
    "id": "b5FNmOMMTOwV"
   },
   "outputs": [],
   "source": [
    "x_train  = new_x_train\n",
    "x_test = new_x_test\n",
    "\n"
   ]
  },
  {
   "cell_type": "markdown",
   "metadata": {
    "id": "pPjFo2oyqlGO"
   },
   "source": [
    "### Write your code in the cell below to do the following:\n",
    "\n",
    "- First convert y_train and y_test from 2D to 1D by using reshape() function \n",
    "- Next apply one-hot encoding to y_train and y_test by using tf.keras.utils.to_categorical() function"
   ]
  },
  {
   "cell_type": "code",
   "execution_count": 26,
   "metadata": {
    "colab": {
     "base_uri": "https://localhost:8080/"
    },
    "id": "fQuVaf2pkRdr",
    "outputId": "0e11c34f-4563-4bca-8a71-1b4fca32fac6"
   },
   "outputs": [
    {
     "name": "stdout",
     "output_type": "stream",
     "text": [
      "(50000,)\n",
      "(10000,)\n"
     ]
    }
   ],
   "source": [
    "num_classes = 10\n",
    "y_train = y_train.reshape(y_train.shape[0])\n",
    "y_test = y_test.reshape(y_test.shape[0])\n",
    "print(y_train.shape)\n",
    "print(y_test.shape)\n",
    "y_train = tf.keras.utils.to_categorical(y_train, num_classes)\n",
    "y_test = tf.keras.utils.to_categorical(y_test, num_classes)\n",
    "\n"
   ]
  },
  {
   "cell_type": "code",
   "execution_count": 27,
   "metadata": {
    "colab": {
     "base_uri": "https://localhost:8080/"
    },
    "id": "w_pLuCNjqvbf",
    "outputId": "0a3a92fa-0a5c-49e4-8871-6e7787873d4b"
   },
   "outputs": [
    {
     "name": "stdout",
     "output_type": "stream",
     "text": [
      "(50000, 10)\n",
      "(10000, 10)\n"
     ]
    }
   ],
   "source": [
    "# double check shape\n",
    "\n",
    "print(y_train.shape)\n",
    "print(y_test.shape)\n",
    "\n",
    "\n",
    "# expected output:  (50000, 10)\n",
    "# expected output:  (10000, 10)"
   ]
  },
  {
   "cell_type": "markdown",
   "metadata": {
    "id": "x-bzRNdjfOgy"
   },
   "source": [
    "###  Load the pre-trained VGG16 model.  Write your code in the cell below to add each layer in VGG16 (excluding the top layers) to your new model.  "
   ]
  },
  {
   "cell_type": "code",
   "execution_count": 28,
   "metadata": {
    "colab": {
     "base_uri": "https://localhost:8080/"
    },
    "id": "4HLwE00VfOgz",
    "outputId": "33a2479d-d7c5-4e2d-91fb-b484cb230d87"
   },
   "outputs": [
    {
     "name": "stdout",
     "output_type": "stream",
     "text": [
      "Model: \"sequential_6\"\n",
      "_________________________________________________________________\n",
      "Layer (type)                 Output Shape              Param #   \n",
      "=================================================================\n",
      "block1_conv1 (Conv2D)        (None, 64, 64, 64)        1792      \n",
      "_________________________________________________________________\n",
      "block1_conv2 (Conv2D)        (None, 64, 64, 64)        36928     \n",
      "_________________________________________________________________\n",
      "block1_pool (MaxPooling2D)   (None, 32, 32, 64)        0         \n",
      "_________________________________________________________________\n",
      "block2_conv1 (Conv2D)        (None, 32, 32, 128)       73856     \n",
      "_________________________________________________________________\n",
      "block2_conv2 (Conv2D)        (None, 32, 32, 128)       147584    \n",
      "_________________________________________________________________\n",
      "block2_pool (MaxPooling2D)   (None, 16, 16, 128)       0         \n",
      "_________________________________________________________________\n",
      "block3_conv1 (Conv2D)        (None, 16, 16, 256)       295168    \n",
      "_________________________________________________________________\n",
      "block3_conv2 (Conv2D)        (None, 16, 16, 256)       590080    \n",
      "_________________________________________________________________\n",
      "block3_conv3 (Conv2D)        (None, 16, 16, 256)       590080    \n",
      "_________________________________________________________________\n",
      "block3_pool (MaxPooling2D)   (None, 8, 8, 256)         0         \n",
      "_________________________________________________________________\n",
      "block4_conv1 (Conv2D)        (None, 8, 8, 512)         1180160   \n",
      "_________________________________________________________________\n",
      "block4_conv2 (Conv2D)        (None, 8, 8, 512)         2359808   \n",
      "_________________________________________________________________\n",
      "block4_conv3 (Conv2D)        (None, 8, 8, 512)         2359808   \n",
      "_________________________________________________________________\n",
      "block4_pool (MaxPooling2D)   (None, 4, 4, 512)         0         \n",
      "_________________________________________________________________\n",
      "block5_conv1 (Conv2D)        (None, 4, 4, 512)         2359808   \n",
      "_________________________________________________________________\n",
      "block5_conv2 (Conv2D)        (None, 4, 4, 512)         2359808   \n",
      "_________________________________________________________________\n",
      "block5_conv3 (Conv2D)        (None, 4, 4, 512)         2359808   \n",
      "_________________________________________________________________\n",
      "block5_pool (MaxPooling2D)   (None, 2, 2, 512)         0         \n",
      "=================================================================\n",
      "Total params: 14,714,688\n",
      "Trainable params: 14,714,688\n",
      "Non-trainable params: 0\n",
      "_________________________________________________________________\n"
     ]
    }
   ],
   "source": [
    "from tensorflow.keras.applications.vgg16 import VGG16\n",
    "\n",
    "vgg_model = VGG16(weights='imagenet', include_top=False, input_shape=(64, 64, 3))   #  first hidden layer\n",
    "\n",
    "\n",
    "model = Sequential()\n",
    "\n",
    "  \n",
    "# write your code here\n",
    "for layer in vgg_model.layers:\n",
    "  model.add(layer)\n",
    "\n",
    "\n",
    "\n",
    "\n",
    "# print out the model summary\n",
    "model.summary()\n"
   ]
  },
  {
   "cell_type": "markdown",
   "metadata": {
    "id": "4ki8D32hrl3E"
   },
   "source": [
    "### Write your code in the cell below to freeze the weights in each layer in the new model"
   ]
  },
  {
   "cell_type": "code",
   "execution_count": 29,
   "metadata": {
    "id": "X_oqboGwfOg1"
   },
   "outputs": [],
   "source": [
    "for layer in model.layers:\n",
    "  layer.trainable = False\n"
   ]
  },
  {
   "cell_type": "markdown",
   "metadata": {
    "id": "YArrSsS4rt_t"
   },
   "source": [
    "###  Write your code in the cell below to add some \"Dense\" layers as top layers.\n",
    "\n",
    "- Donot forget the output layer\n",
    "- Choose the right activation fucntion for the output layer"
   ]
  },
  {
   "cell_type": "code",
   "execution_count": 30,
   "metadata": {
    "colab": {
     "base_uri": "https://localhost:8080/"
    },
    "id": "Fphbz0FhfOg3",
    "outputId": "548c6a9c-e313-4029-8c40-141f537b529e"
   },
   "outputs": [
    {
     "name": "stdout",
     "output_type": "stream",
     "text": [
      "Model: \"sequential_6\"\n",
      "_________________________________________________________________\n",
      "Layer (type)                 Output Shape              Param #   \n",
      "=================================================================\n",
      "block1_conv1 (Conv2D)        (None, 64, 64, 64)        1792      \n",
      "_________________________________________________________________\n",
      "block1_conv2 (Conv2D)        (None, 64, 64, 64)        36928     \n",
      "_________________________________________________________________\n",
      "block1_pool (MaxPooling2D)   (None, 32, 32, 64)        0         \n",
      "_________________________________________________________________\n",
      "block2_conv1 (Conv2D)        (None, 32, 32, 128)       73856     \n",
      "_________________________________________________________________\n",
      "block2_conv2 (Conv2D)        (None, 32, 32, 128)       147584    \n",
      "_________________________________________________________________\n",
      "block2_pool (MaxPooling2D)   (None, 16, 16, 128)       0         \n",
      "_________________________________________________________________\n",
      "block3_conv1 (Conv2D)        (None, 16, 16, 256)       295168    \n",
      "_________________________________________________________________\n",
      "block3_conv2 (Conv2D)        (None, 16, 16, 256)       590080    \n",
      "_________________________________________________________________\n",
      "block3_conv3 (Conv2D)        (None, 16, 16, 256)       590080    \n",
      "_________________________________________________________________\n",
      "block3_pool (MaxPooling2D)   (None, 8, 8, 256)         0         \n",
      "_________________________________________________________________\n",
      "block4_conv1 (Conv2D)        (None, 8, 8, 512)         1180160   \n",
      "_________________________________________________________________\n",
      "block4_conv2 (Conv2D)        (None, 8, 8, 512)         2359808   \n",
      "_________________________________________________________________\n",
      "block4_conv3 (Conv2D)        (None, 8, 8, 512)         2359808   \n",
      "_________________________________________________________________\n",
      "block4_pool (MaxPooling2D)   (None, 4, 4, 512)         0         \n",
      "_________________________________________________________________\n",
      "block5_conv1 (Conv2D)        (None, 4, 4, 512)         2359808   \n",
      "_________________________________________________________________\n",
      "block5_conv2 (Conv2D)        (None, 4, 4, 512)         2359808   \n",
      "_________________________________________________________________\n",
      "block5_conv3 (Conv2D)        (None, 4, 4, 512)         2359808   \n",
      "_________________________________________________________________\n",
      "block5_pool (MaxPooling2D)   (None, 2, 2, 512)         0         \n",
      "_________________________________________________________________\n",
      "flatten_6 (Flatten)          (None, 2048)              0         \n",
      "_________________________________________________________________\n",
      "dense_12 (Dense)             (None, 256)               524544    \n",
      "_________________________________________________________________\n",
      "dense_13 (Dense)             (None, 128)               32896     \n",
      "_________________________________________________________________\n",
      "dense_14 (Dense)             (None, 64)                8256      \n",
      "_________________________________________________________________\n",
      "dense_15 (Dense)             (None, 10)                650       \n",
      "=================================================================\n",
      "Total params: 15,281,034\n",
      "Trainable params: 566,346\n",
      "Non-trainable params: 14,714,688\n",
      "_________________________________________________________________\n"
     ]
    }
   ],
   "source": [
    "model.add(Flatten())\n",
    "\n",
    "\n",
    "# Add some \"Dense\" layers here, including output layer\n",
    "model.add(Dense(256, activation='relu'))\n",
    "model.add(Dense(128, activation='relu'))\n",
    "model.add(Dense(64, activation='relu'))\n",
    "model.add(Dense(num_classes, activation='softmax'))\n",
    "model.summary()\n"
   ]
  },
  {
   "cell_type": "markdown",
   "metadata": {
    "id": "sDOG92fcr1m8"
   },
   "source": [
    "###  Write your code below for compile and fit. \n",
    "\n",
    "### Train your new model. \n",
    "\n",
    "### Notice that you should use earlystopping."
   ]
  },
  {
   "cell_type": "code",
   "execution_count": 31,
   "metadata": {
    "colab": {
     "base_uri": "https://localhost:8080/"
    },
    "id": "xWrWTc2JfOg6",
    "outputId": "fc4b29d3-0a4d-4339-fc0a-b005908d16ac",
    "scrolled": false
   },
   "outputs": [
    {
     "name": "stdout",
     "output_type": "stream",
     "text": [
      "Epoch 1/20\n",
      "1563/1563 - 58s - loss: 1.1319 - accuracy: 0.6060 - val_loss: 1.0491 - val_accuracy: 0.6270\n",
      "Epoch 2/20\n",
      "1563/1563 - 57s - loss: 0.9110 - accuracy: 0.6817 - val_loss: 0.8931 - val_accuracy: 0.6887\n",
      "Epoch 3/20\n",
      "1563/1563 - 57s - loss: 0.8219 - accuracy: 0.7129 - val_loss: 0.9196 - val_accuracy: 0.6819\n",
      "Epoch 4/20\n",
      "1563/1563 - 57s - loss: 0.7576 - accuracy: 0.7351 - val_loss: 0.8799 - val_accuracy: 0.6996\n",
      "Epoch 5/20\n",
      "1563/1563 - 57s - loss: 0.6978 - accuracy: 0.7551 - val_loss: 0.9163 - val_accuracy: 0.6917\n",
      "Epoch 6/20\n",
      "1563/1563 - 57s - loss: 0.6474 - accuracy: 0.7735 - val_loss: 0.9074 - val_accuracy: 0.6973\n",
      "Epoch 7/20\n",
      "1563/1563 - 57s - loss: 0.5968 - accuracy: 0.7903 - val_loss: 0.9323 - val_accuracy: 0.6963\n",
      "Epoch 8/20\n",
      "1563/1563 - 57s - loss: 0.5537 - accuracy: 0.8076 - val_loss: 0.9799 - val_accuracy: 0.6896\n",
      "Epoch 9/20\n",
      "1563/1563 - 57s - loss: 0.5113 - accuracy: 0.8185 - val_loss: 1.0188 - val_accuracy: 0.6886\n",
      "Epoch 00009: early stopping\n"
     ]
    },
    {
     "data": {
      "text/plain": [
       "<tensorflow.python.keras.callbacks.History at 0x7fb5917feb00>"
      ]
     },
     "execution_count": 31,
     "metadata": {
      "tags": []
     },
     "output_type": "execute_result"
    }
   ],
   "source": [
    "from tensorflow.keras.optimizers import Adam\n",
    "from tensorflow.keras.callbacks import EarlyStopping, ModelCheckpoint\n",
    "batch_size = 32\n",
    "epochs = 20\n",
    "checkpointer = ModelCheckpoint(filepath=\"./best_weights_fairclass2.hdf5\", verbose=0, save_best_only=True) # save best model\n",
    "model.compile(loss = 'categorical_crossentropy', optimizer='adam', metrics=['accuracy'])\n",
    "monitor = EarlyStopping(monitor='val_loss', min_delta=1e-3, patience=5,verbose = 2, mode = 'auto')\n",
    "model.fit(x_train, y_train, validation_data=(x_test, y_test), epochs = epochs, batch_size= batch_size,verbose=2,  callbacks=[monitor, checkpointer])\n",
    "\n",
    "\n",
    "# since we use GPU, the training time for each epoch for the transferred model is about 60 seconds.  \n",
    "# Let it run for a few epochs. "
   ]
  },
  {
   "cell_type": "markdown",
   "metadata": {
    "id": "ps2CZ8Xwrz_a"
   },
   "source": [
    "### Write your code below to print out the Precision, Recall, F1 score, and classification_report\n",
    "\n",
    "### Include your findings in the project report."
   ]
  },
  {
   "cell_type": "code",
   "execution_count": 32,
   "metadata": {
    "colab": {
     "base_uri": "https://localhost:8080/",
     "height": 821
    },
    "id": "rMRuLfS3fOg8",
    "outputId": "9ec48b5b-b971-4a17-ac89-f856cb03d5e0",
    "scrolled": true
   },
   "outputs": [
    {
     "name": "stdout",
     "output_type": "stream",
     "text": [
      "Accuracy: 0.6996\n",
      "F1-score Averaged: 0.6953257962496606\n",
      "Confusing Matrix:\n",
      "[[749  38  29  15  36   2  15  19  64  33]\n",
      " [  7 838   2   7  10   7  23  10  21  75]\n",
      " [ 73  12 526  47 138  41 106  48   6   3]\n",
      " [ 21  40  33 443  98 120 140  63  14  28]\n",
      " [ 12  14  30  22 727  18  77  86  10   4]\n",
      " [  9  15  30 142  84 539  62  95   8  16]\n",
      " [  8  18  20  25  87  18 805   8   7   4]\n",
      " [ 11  16  14  17  81  39  13 791   6  12]\n",
      " [ 52  53   8  13  22   4  12   6 797  33]\n",
      " [ 28  94   3  18  12   7  11  24  22 781]]\n"
     ]
    },
    {
     "data": {
      "image/png": "[encoded data removed]",
      "text/plain": [
       "<Figure size 432x288 with 2 Axes>"
      ]
     },
     "metadata": {
      "needs_background": "light",
      "tags": []
     },
     "output_type": "display_data"
    },
    {
     "name": "stdout",
     "output_type": "stream",
     "text": [
      "              precision    recall  f1-score   support\n",
      "\n",
      "           0       0.77      0.75      0.76      1000\n",
      "           1       0.74      0.84      0.78      1000\n",
      "           2       0.76      0.53      0.62      1000\n",
      "           3       0.59      0.44      0.51      1000\n",
      "           4       0.56      0.73      0.63      1000\n",
      "           5       0.68      0.54      0.60      1000\n",
      "           6       0.64      0.81      0.71      1000\n",
      "           7       0.69      0.79      0.74      1000\n",
      "           8       0.83      0.80      0.82      1000\n",
      "           9       0.79      0.78      0.79      1000\n",
      "\n",
      "    accuracy                           0.70     10000\n",
      "   macro avg       0.70      0.70      0.70     10000\n",
      "weighted avg       0.70      0.70      0.70     10000\n",
      "\n"
     ]
    }
   ],
   "source": [
    "from sklearn import metrics\n",
    "model.load_weights(\"./best_weights_fairclass2.hdf5\")\n",
    "pred = model.predict(x_test)\n",
    "true = np.argmax(y_test, axis = 1)\n",
    "pred = np.argmax(pred, axis = 1)\n",
    "print(\"Accuracy:\", metrics.accuracy_score(true, pred))\n",
    "print(\"F1-score Averaged:\", metrics.f1_score(true, pred, average = 'weighted'))\n",
    "cm = metrics.confusion_matrix(true, pred)\n",
    "outcomes = list(range(0, num_classes))\n",
    "print(\"Confusing Matrix:\")\n",
    "print(cm)\n",
    "plot_confusion_matrix(cm, outcomes)\n",
    "plt.show()\n",
    "print(metrics.classification_report(true, pred))\n"
   ]
  },
  {
   "cell_type": "markdown",
   "metadata": {
    "id": "PkatwrTod_ii"
   },
   "source": [
    "### Write your code in the cell below to show 3-5 images in the test set as well as their true labels and their labels predicted by your model with transfer learning. \n",
    "\n",
    "### Include your findings in the project report."
   ]
  },
  {
   "cell_type": "code",
   "execution_count": 33,
   "metadata": {
    "colab": {
     "base_uri": "https://localhost:8080/",
     "height": 1000
    },
    "id": "PoRepUWbd_ii",
    "outputId": "7026d6f8-9645-44fd-b63c-4b20d9a46705"
   },
   "outputs": [
    {
     "name": "stdout",
     "output_type": "stream",
     "text": [
      "True Label: 8, ship\n",
      "Predicted Label: 8, ship\n"
     ]
    },
    {
     "data": {
      "image/png": "[encoded data removed]",
      "text/plain": [
       "<Figure size 432x288 with 1 Axes>"
      ]
     },
     "metadata": {
      "needs_background": "light",
      "tags": []
     },
     "output_type": "display_data"
    },
    {
     "name": "stdout",
     "output_type": "stream",
     "text": [
      "True Label: 5, dog\n",
      "Predicted Label: 6, frog\n"
     ]
    },
    {
     "data": {
      "image/png": "[encoded data removed]",
      "text/plain": [
       "<Figure size 432x288 with 1 Axes>"
      ]
     },
     "metadata": {
      "needs_background": "light",
      "tags": []
     },
     "output_type": "display_data"
    },
    {
     "name": "stdout",
     "output_type": "stream",
     "text": [
      "True Label: 9, truck\n",
      "Predicted Label: 9, truck\n"
     ]
    },
    {
     "data": {
      "image/png": "[encoded data removed]",
      "text/plain": [
       "<Figure size 432x288 with 1 Axes>"
      ]
     },
     "metadata": {
      "needs_background": "light",
      "tags": []
     },
     "output_type": "display_data"
    },
    {
     "name": "stdout",
     "output_type": "stream",
     "text": [
      "True Label: 8, ship\n",
      "Predicted Label: 8, ship\n"
     ]
    },
    {
     "data": {
      "image/png": "[encoded data removed]",
      "text/plain": [
       "<Figure size 432x288 with 1 Axes>"
      ]
     },
     "metadata": {
      "needs_background": "light",
      "tags": []
     },
     "output_type": "display_data"
    },
    {
     "name": "stdout",
     "output_type": "stream",
     "text": [
      "True Label: 2, bird\n",
      "Predicted Label: 2, bird\n"
     ]
    },
    {
     "data": {
      "image/png": "[encoded data removed]",
      "text/plain": [
       "<Figure size 432x288 with 1 Axes>"
      ]
     },
     "metadata": {
      "needs_background": "light",
      "tags": []
     },
     "output_type": "display_data"
    }
   ],
   "source": [
    "for i in range(5):\n",
    "  image_index = np.random.randint(0, x_test.shape[0], 1)[0]\n",
    "  image = x_test[image_index]  \n",
    "  print(\"True Label:\", str(true[image_index]) + \",\", mapping[true[image_index]])\n",
    "  print(\"Predicted Label:\", str(pred[image_index]) + \",\", mapping[pred[image_index]])\n",
    "  plt.imshow(image)\n",
    "  plt.show()\n",
    "\n",
    "\n",
    "\n",
    "\n",
    "\n",
    "\n"
   ]
  }
 ],
 "metadata": {
  "accelerator": "GPU",
  "anaconda-cloud": {},
  "colab": {
   "collapsed_sections": [],
   "name": "CSC180_Transfer_learning_project_on_cifar_10_(canvas_version).ipynb",
   "provenance": []
  },
  "kernelspec": {
   "display_name": "Python 3",
   "language": "python",
   "name": "python3"
  },
  "language_info": {
   "codemirror_mode": {
    "name": "ipython",
    "version": 3
   },
   "file_extension": ".py",
   "mimetype": "text/x-python",
   "name": "python",
   "nbconvert_exporter": "python",
   "pygments_lexer": "ipython3",
   "version": "3.8.3"
  }
 },
 "nbformat": 4,
 "nbformat_minor": 1
}
